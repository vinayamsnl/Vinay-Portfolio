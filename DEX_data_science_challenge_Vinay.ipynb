{
 "cells": [
  {
   "cell_type": "markdown",
   "metadata": {},
   "source": [
    "# Durstexpress data science application challenge\n",
    "\n",
    "Thank you for applying to work at Durstexpress and for taking the time to attempt this challenge!\n",
    "\n",
    "The purpose of the challenge is to assess your technical skill in data science. Should you be invited to an onsite interview, your solutions will also be the starting point for technical discussions at that interview.\n",
    "\n",
    "The topic of this challenge is the quantitative assessment of the effect of external factors on beer sales. The (artifical) dataset for two tasks below is in the file `data.csv`, which you should have also received. This dataset contains the follwoing values for each day of 2019:\n",
    "\n",
    "* Number of crates of beers sold\n",
    "* Hours of daylight\n",
    "* Public holiday (0 or 1)\n",
    "* Mean temperature in °C\n",
    "\n",
    "Before you begin the challenge, please read the following instructions:\n",
    "* Please include your name and the date in the first cell of the notebook.\n",
    "* Please write your solutions in Python.\n",
    "* Please explain your working. This doean't have to be extensive, but enough for someone reading your notebook to be able to understand what you have done.\n",
    "* You need only consider linear models.\n",
    "* Once you have completed the two tasks below, please email your .ipynb file to your contact person at Durstexpress HR."
   ]
  },
  {
   "cell_type": "code",
   "execution_count": null,
   "metadata": {},
   "outputs": [],
   "source": [
    "## Vinay Kumar 18/03/2020"
   ]
  },
  {
   "cell_type": "markdown",
   "metadata": {},
   "source": [
    "# Task 1: Quantitatively assess the impact of these factors on beer sales."
   ]
  },
  {
   "cell_type": "markdown",
   "metadata": {},
   "source": [
    "# Task 2: Using only the dataset provided, can you find and quantitatively assess other factors affecting beer sales?\n",
    "This is an open-ended task that would take quite some time to investigate fully. **You do not need to go further than running a simple linear regression with the new covariates that you find.** However, as preparation for the onsite interview, think about how you would proceed after the initial linear regression."
   ]
  },
  {
   "cell_type": "code",
   "execution_count": 1,
   "metadata": {},
   "outputs": [],
   "source": [
    "import pandas as pd\n",
    "import numpy as np\n",
    "import matplotlib.pyplot as plt\n",
    "import seaborn as sns\n",
    "#pd.set_option('display.float_format', lambda x: '%.2f' % x)\n",
    "pd.options.display.max_columns = None"
   ]
  },
  {
   "cell_type": "code",
   "execution_count": 2,
   "metadata": {},
   "outputs": [],
   "source": [
    "##laod data and make a copy\n",
    "data1 = pd.read_csv('data.csv')\n",
    "data = data1.copy()"
   ]
  },
  {
   "cell_type": "code",
   "execution_count": 3,
   "metadata": {},
   "outputs": [
    {
     "name": "stdout",
     "output_type": "stream",
     "text": [
      "<class 'pandas.core.frame.DataFrame'>\n",
      "RangeIndex: 365 entries, 0 to 364\n",
      "Data columns (total 5 columns):\n",
      " #   Column             Non-Null Count  Dtype  \n",
      "---  ------             --------------  -----  \n",
      " 0   date               365 non-null    object \n",
      " 1   crates_sold        365 non-null    int64  \n",
      " 2   hours_of_daylight  365 non-null    float64\n",
      " 3   public_holiday     365 non-null    int64  \n",
      " 4   mean_temperature   365 non-null    float64\n",
      "dtypes: float64(2), int64(2), object(1)\n",
      "memory usage: 14.4+ KB\n"
     ]
    }
   ],
   "source": [
    "data.info()"
   ]
  },
  {
   "cell_type": "code",
   "execution_count": 4,
   "metadata": {},
   "outputs": [
    {
     "data": {
      "text/plain": [
       "(365, 5)"
      ]
     },
     "execution_count": 4,
     "metadata": {},
     "output_type": "execute_result"
    }
   ],
   "source": [
    "data.shape"
   ]
  },
  {
   "cell_type": "code",
   "execution_count": 5,
   "metadata": {},
   "outputs": [
    {
     "data": {
      "text/html": [
       "<div>\n",
       "<style scoped>\n",
       "    .dataframe tbody tr th:only-of-type {\n",
       "        vertical-align: middle;\n",
       "    }\n",
       "\n",
       "    .dataframe tbody tr th {\n",
       "        vertical-align: top;\n",
       "    }\n",
       "\n",
       "    .dataframe thead th {\n",
       "        text-align: right;\n",
       "    }\n",
       "</style>\n",
       "<table border=\"1\" class=\"dataframe\">\n",
       "  <thead>\n",
       "    <tr style=\"text-align: right;\">\n",
       "      <th></th>\n",
       "      <th>date</th>\n",
       "      <th>crates_sold</th>\n",
       "      <th>hours_of_daylight</th>\n",
       "      <th>public_holiday</th>\n",
       "      <th>mean_temperature</th>\n",
       "    </tr>\n",
       "  </thead>\n",
       "  <tbody>\n",
       "    <tr>\n",
       "      <th>0</th>\n",
       "      <td>2019-01-01</td>\n",
       "      <td>553</td>\n",
       "      <td>7.7</td>\n",
       "      <td>1</td>\n",
       "      <td>6.4</td>\n",
       "    </tr>\n",
       "    <tr>\n",
       "      <th>1</th>\n",
       "      <td>2019-01-02</td>\n",
       "      <td>479</td>\n",
       "      <td>7.8</td>\n",
       "      <td>0</td>\n",
       "      <td>1.6</td>\n",
       "    </tr>\n",
       "    <tr>\n",
       "      <th>2</th>\n",
       "      <td>2019-01-03</td>\n",
       "      <td>485</td>\n",
       "      <td>7.8</td>\n",
       "      <td>0</td>\n",
       "      <td>-0.8</td>\n",
       "    </tr>\n",
       "    <tr>\n",
       "      <th>3</th>\n",
       "      <td>2019-01-04</td>\n",
       "      <td>484</td>\n",
       "      <td>7.8</td>\n",
       "      <td>0</td>\n",
       "      <td>1.6</td>\n",
       "    </tr>\n",
       "    <tr>\n",
       "      <th>4</th>\n",
       "      <td>2019-01-05</td>\n",
       "      <td>512</td>\n",
       "      <td>7.8</td>\n",
       "      <td>0</td>\n",
       "      <td>5.5</td>\n",
       "    </tr>\n",
       "  </tbody>\n",
       "</table>\n",
       "</div>"
      ],
      "text/plain": [
       "         date  crates_sold  hours_of_daylight  public_holiday  \\\n",
       "0  2019-01-01          553                7.7               1   \n",
       "1  2019-01-02          479                7.8               0   \n",
       "2  2019-01-03          485                7.8               0   \n",
       "3  2019-01-04          484                7.8               0   \n",
       "4  2019-01-05          512                7.8               0   \n",
       "\n",
       "   mean_temperature  \n",
       "0               6.4  \n",
       "1               1.6  \n",
       "2              -0.8  \n",
       "3               1.6  \n",
       "4               5.5  "
      ]
     },
     "execution_count": 5,
     "metadata": {},
     "output_type": "execute_result"
    }
   ],
   "source": [
    "data.head()"
   ]
  },
  {
   "cell_type": "code",
   "execution_count": 7,
   "metadata": {},
   "outputs": [],
   "source": [
    "## convert date to datetime \n",
    "data['date'] =  pd.to_datetime(data['date'],format = '%Y-%m-%d')"
   ]
  },
  {
   "cell_type": "code",
   "execution_count": 8,
   "metadata": {},
   "outputs": [
    {
     "data": {
      "text/plain": [
       "(Timestamp('2019-01-01 00:00:00'), Timestamp('2019-12-31 00:00:00'))"
      ]
     },
     "execution_count": 8,
     "metadata": {},
     "output_type": "execute_result"
    }
   ],
   "source": [
    "### length of data: one year\n",
    "min(data.date),max(data.date)"
   ]
  },
  {
   "cell_type": "code",
   "execution_count": 9,
   "metadata": {},
   "outputs": [
    {
     "data": {
      "text/plain": [
       "<matplotlib.axes._subplots.AxesSubplot at 0xb7fa9c8>"
      ]
     },
     "execution_count": 9,
     "metadata": {},
     "output_type": "execute_result"
    },
    {
     "data": {
      "image/png": "[encoded data removed]",
      "text/plain": [
       "<Figure size 432x288 with 1 Axes>"
      ]
     },
     "metadata": {
      "needs_background": "light"
     },
     "output_type": "display_data"
    }
   ],
   "source": [
    "# plot sales \n",
    "sns.lineplot(x = data.date, y =data.crates_sold, data=data)"
   ]
  },
  {
   "cell_type": "code",
   "execution_count": 63,
   "metadata": {},
   "outputs": [
    {
     "data": {
      "image/png": "[encoded data removed]",
      "text/plain": [
       "<Figure size 576x288 with 1 Axes>"
      ]
     },
     "metadata": {
      "needs_background": "light"
     },
     "output_type": "display_data"
    }
   ],
   "source": [
    "#### analyse the correlation between beer sales and factors: daylight and tempreture\n",
    "corr_data =  data[['crates_sold', 'hours_of_daylight', 'mean_temperature']]\n",
    "corr_sales = corr_data.corr()['crates_sold'].abs()\n",
    "columns = corr_sales[corr_sales >.01].index\n",
    "corr_sales = corr_sales.filter(columns).sort_values()\n",
    "corr_sales =  pd.DataFrame(corr_sales)\n",
    "corr_sales = corr_sales.reset_index()\n",
    "corr_sales =  corr_sales.rename(columns={'index':'features','crates_sold':'corr'})\n",
    "\n",
    "## plot correlation\n",
    "ind = np.arange(corr_sales.shape[0])\n",
    "width = 0.2\n",
    "fig, ax = plt.subplots(figsize=(8,4))\n",
    "rects = ax.barh(ind, corr_sales['corr'].values, color='r')\n",
    "ax.set_yticks(ind)\n",
    "ax.set_yticklabels(corr_sales.features.values, rotation='horizontal')\n",
    "ax.set_xlabel(\"absolute corr\", fontsize = 10)\n",
    "ax.set_title(\"Correlations between features and corr_sales \", fontsize = 8)\n",
    "plt.show()"
   ]
  },
  {
   "cell_type": "code",
   "execution_count": 10,
   "metadata": {},
   "outputs": [
    {
     "name": "stderr",
     "output_type": "stream",
     "text": [
      "C:\\Users\\pnl07d9v\\Anaconda3\\lib\\site-packages\\seaborn\\categorical.py:3669: UserWarning: The `factorplot` function has been renamed to `catplot`. The original name will be removed in a future release. Please update your code. Note that the default `kind` in `factorplot` (`'point'`) has changed `'strip'` in `catplot`.\n",
      "  warnings.warn(msg)\n"
     ]
    },
    {
     "data": {
      "image/png": "[encoded data removed]",
      "text/plain": [
       "<Figure size 360x360 with 1 Axes>"
      ]
     },
     "metadata": {
      "needs_background": "light"
     },
     "output_type": "display_data"
    }
   ],
   "source": [
    "### visualize the impact of holiday on sales\n",
    "sns.factorplot(data= data, x= 'public_holiday', y= 'crates_sold');"
   ]
  },
  {
   "cell_type": "code",
   "execution_count": 12,
   "metadata": {},
   "outputs": [
    {
     "data": {
      "image/png": "[encoded data removed]",
      "text/plain": [
       "<Figure size 864x288 with 3 Axes>"
      ]
     },
     "metadata": {
      "needs_background": "light"
     },
     "output_type": "display_data"
    }
   ],
   "source": [
    "### visualise the relation between sales and factors\n",
    "g = sns.PairGrid(data, y_vars=[\"crates_sold\"], x_vars=[\"public_holiday\",'mean_temperature','hours_of_daylight'], height=4)\n",
    "g.map(sns.regplot, color=\".3\");"
   ]
  },
  {
   "cell_type": "code",
   "execution_count": 13,
   "metadata": {},
   "outputs": [
    {
     "data": {
      "image/png": "[encoded data removed]",
      "text/plain": [
       "<Figure size 216x216 with 1 Axes>"
      ]
     },
     "metadata": {
      "needs_background": "light"
     },
     "output_type": "display_data"
    }
   ],
   "source": [
    "### visualise the sales over months\n",
    "data['Month'] =  data.date.dt.month\n",
    "g = sns.FacetGrid(data,height=3, ylim=(0, 1000))\n",
    "g.map(sns.pointplot, \"Month\", \"crates_sold\", color=\".3\", ci=None, order = [1,2,3,4,5,6,7,8,9,10,11,12]);"
   ]
  },
  {
   "cell_type": "markdown",
   "metadata": {},
   "source": [
    "### Holiday day's have more beer sales compared to regular days\n",
    "### bear sales are more during summer season\n",
    "### sales has positive correlation between day_hours and mean temperature"
   ]
  },
  {
   "cell_type": "code",
   "execution_count": 14,
   "metadata": {},
   "outputs": [
    {
     "data": {
      "text/plain": [
       "<seaborn.axisgrid.FacetGrid at 0xc75a488>"
      ]
     },
     "execution_count": 14,
     "metadata": {},
     "output_type": "execute_result"
    },
    {
     "data": {
      "image/png": "[encoded data removed]",
      "text/plain": [
       "<Figure size 489.6x244.8 with 2 Axes>"
      ]
     },
     "metadata": {
      "needs_background": "light"
     },
     "output_type": "display_data"
    }
   ],
   "source": [
    "## distribution of sales:  holiday  vs non holidays\n",
    "g = sns.FacetGrid(data, row=\"public_holiday\",\n",
    "                  height=1.7, aspect=4,)\n",
    "g.map(sns.distplot, \"crates_sold\", hist=False, rug=True)"
   ]
  },
  {
   "cell_type": "markdown",
   "metadata": {},
   "source": [
    "## fit regression model using : statsmodel"
   ]
  },
  {
   "cell_type": "code",
   "execution_count": 64,
   "metadata": {},
   "outputs": [
    {
     "name": "stdout",
     "output_type": "stream",
     "text": [
      "                            OLS Regression Results                            \n",
      "==============================================================================\n",
      "Dep. Variable:            crates_sold   R-squared:                       0.883\n",
      "Model:                            OLS   Adj. R-squared:                  0.881\n",
      "Method:                 Least Squares   F-statistic:                     826.6\n",
      "Date:                Wed, 18 Mar 2020   Prob (F-statistic):          4.55e-153\n",
      "Time:                        17:07:43   Log-Likelihood:                -1613.1\n",
      "No. Observations:                 334   AIC:                             3234.\n",
      "Df Residuals:                     330   BIC:                             3249.\n",
      "Df Model:                           3                                         \n",
      "Covariance Type:            nonrobust                                         \n",
      "=====================================================================================\n",
      "                        coef    std err          t      P>|t|      [0.025      0.975]\n",
      "-------------------------------------------------------------------------------------\n",
      "const               481.1565      8.824     54.531      0.000     463.799     498.514\n",
      "hours_of_daylight     0.8182      0.923      0.886      0.376      -0.998       2.635\n",
      "public_holiday       55.9698     10.913      5.129      0.000      34.503      77.437\n",
      "mean_temperature     11.1388      0.374     29.814      0.000      10.404      11.874\n",
      "==============================================================================\n",
      "Omnibus:                        2.669   Durbin-Watson:                   1.369\n",
      "Prob(Omnibus):                  0.263   Jarque-Bera (JB):                2.493\n",
      "Skew:                           0.210   Prob(JB):                        0.288\n",
      "Kurtosis:                       3.059   Cond. No.                         123.\n",
      "==============================================================================\n",
      "\n",
      "Warnings:\n",
      "[1] Standard Errors assume that the covariance matrix of the errors is correctly specified.\n"
     ]
    }
   ],
   "source": [
    "###########################  on 11 month data ##########################################\n",
    "import statsmodels.api as sm\n",
    "\n",
    "train = data[data.date <= '2019-11-30']\n",
    "test = data[data.date > '2019-11-30']\n",
    "\n",
    "X = train[['hours_of_daylight', 'public_holiday','mean_temperature']] # here we have 2 variables for the multiple linear regression. If you just want to use one variable for simple linear regression, then use X = df['Interest_Rate'] for example\n",
    "Y = train['crates_sold']\n",
    "\n",
    "X = sm.add_constant(X) # adding a constant\n",
    "\n",
    "model = sm.OLS(Y, X).fit()\n",
    "predictions = model.predict(X) \n",
    "\n",
    "print_model = model.summary()\n",
    "print(print_model)"
   ]
  },
  {
   "cell_type": "code",
   "execution_count": 65,
   "metadata": {},
   "outputs": [
    {
     "name": "stdout",
     "output_type": "stream",
     "text": [
      "                            OLS Regression Results                            \n",
      "==============================================================================\n",
      "Dep. Variable:            crates_sold   R-squared:                       0.856\n",
      "Model:                            OLS   Adj. R-squared:                  0.855\n",
      "Method:                 Least Squares   F-statistic:                     717.2\n",
      "Date:                Wed, 18 Mar 2020   Prob (F-statistic):          1.14e-151\n",
      "Time:                        17:08:01   Log-Likelihood:                -1788.5\n",
      "No. Observations:                 365   AIC:                             3585.\n",
      "Df Residuals:                     361   BIC:                             3601.\n",
      "Df Model:                           3                                         \n",
      "Covariance Type:            nonrobust                                         \n",
      "=====================================================================================\n",
      "                        coef    std err          t      P>|t|      [0.025      0.975]\n",
      "-------------------------------------------------------------------------------------\n",
      "const               513.0277      8.329     61.595      0.000     496.648     529.407\n",
      "hours_of_daylight    -1.6766      0.916     -1.830      0.068      -3.478       0.125\n",
      "public_holiday       54.6366     10.478      5.215      0.000      34.032      75.242\n",
      "mean_temperature     11.4118      0.393     29.044      0.000      10.639      12.184\n",
      "==============================================================================\n",
      "Omnibus:                        2.082   Durbin-Watson:                   1.196\n",
      "Prob(Omnibus):                  0.353   Jarque-Bera (JB):                1.835\n",
      "Skew:                           0.159   Prob(JB):                        0.400\n",
      "Kurtosis:                       3.139   Cond. No.                         111.\n",
      "==============================================================================\n",
      "\n",
      "Warnings:\n",
      "[1] Standard Errors assume that the covariance matrix of the errors is correctly specified.\n"
     ]
    }
   ],
   "source": [
    "#### on whole year data ## adding more data will definitly help improving the model accuracy\n",
    "\n",
    "X = data[['hours_of_daylight', 'public_holiday','mean_temperature']] # here we have 2 variables for the multiple linear regression. If you just want to use one variable for simple linear regression, then use X = df['Interest_Rate'] for example\n",
    "Y = data['crates_sold']\n",
    "\n",
    "X = sm.add_constant(X) # adding a constant\n",
    "\n",
    "model = sm.OLS(Y, X).fit()\n",
    "predictions = model.predict(X) \n",
    "\n",
    "print_model = model.summary()\n",
    "print(print_model)"
   ]
  },
  {
   "cell_type": "code",
   "execution_count": null,
   "metadata": {},
   "outputs": [],
   "source": [
    "## 1. statsmodel provide good insights in terms of variable significance in the model\n",
    "## 2. As per model output all features and constant term are significant at 5% level of significance except hours of daylight\n",
    "# which is significant 10% level of significant.\n",
    "## 3. Each parameter coefficinet std error is also low which is a good indicator of model accuracy vis-a-vis relationship\n",
    "## between sales and factors"
   ]
  },
  {
   "cell_type": "markdown",
   "metadata": {},
   "source": [
    "## fit regression model using : sklearn"
   ]
  },
  {
   "cell_type": "code",
   "execution_count": 66,
   "metadata": {},
   "outputs": [
    {
     "data": {
      "text/plain": [
       "(365, 23)"
      ]
     },
     "execution_count": 66,
     "metadata": {},
     "output_type": "execute_result"
    }
   ],
   "source": [
    "### fit linear model to analyse the impact of factors on beer sales\n",
    "from sklearn import linear_model\n",
    "from sklearn.model_selection import train_test_split\n",
    "from sklearn.metrics import mean_squared_error, mean_absolute_error\n",
    "\n",
    "X =  data[['hours_of_daylight', 'public_holiday',\n",
    "       'mean_temperature']]\n",
    "y  = data['crates_sold']\n",
    "\n",
    "### drop duplicates and sort data with data\n",
    "data = data.drop_duplicates(keep = 'first')\n",
    "data = data.sort_values(by= 'date')\n",
    "data.shape"
   ]
  },
  {
   "cell_type": "code",
   "execution_count": 67,
   "metadata": {},
   "outputs": [],
   "source": [
    "### train and test data\n",
    "train = data[data.date <= '2019-11-30']\n",
    "test = data[data.date > '2019-11-30']\n",
    "\n",
    "X_train =  train[['hours_of_daylight', 'public_holiday','mean_temperature']]\n",
    "\n",
    "y_train =  train[['crates_sold']]\n",
    "\n",
    "X_test = test[['hours_of_daylight', 'public_holiday','mean_temperature']]\n",
    "\n",
    "y_test = test[['crates_sold']]"
   ]
  },
  {
   "cell_type": "code",
   "execution_count": 68,
   "metadata": {},
   "outputs": [
    {
     "data": {
      "text/plain": [
       "LinearRegression(copy_X=True, fit_intercept=True, n_jobs=None, normalize=False)"
      ]
     },
     "execution_count": 68,
     "metadata": {},
     "output_type": "execute_result"
    }
   ],
   "source": [
    "## fit the model\n",
    "regr =  linear_model.LinearRegression()\n",
    "regr.fit(X_train, y_train)\n",
    "regr"
   ]
  },
  {
   "cell_type": "code",
   "execution_count": 69,
   "metadata": {},
   "outputs": [
    {
     "data": {
      "text/plain": [
       "(array([481.15647477]), array([[ 0.81815962, 55.96975726, 11.13877676]]))"
      ]
     },
     "execution_count": 69,
     "metadata": {},
     "output_type": "execute_result"
    }
   ],
   "source": [
    "## intercept and Parameter estimates\n",
    "regr.intercept_ ,regr.coef_"
   ]
  },
  {
   "cell_type": "code",
   "execution_count": 70,
   "metadata": {},
   "outputs": [],
   "source": [
    "## predict the test set\n",
    "prediction =  regr.predict(X_test)"
   ]
  },
  {
   "cell_type": "code",
   "execution_count": 71,
   "metadata": {},
   "outputs": [
    {
     "data": {
      "text/plain": [
       "array([481.15647477])"
      ]
     },
     "execution_count": 71,
     "metadata": {},
     "output_type": "execute_result"
    }
   ],
   "source": [
    "regr.intercept_"
   ]
  },
  {
   "cell_type": "code",
   "execution_count": 72,
   "metadata": {},
   "outputs": [
    {
     "data": {
      "text/html": [
       "<div>\n",
       "<style scoped>\n",
       "    .dataframe tbody tr th:only-of-type {\n",
       "        vertical-align: middle;\n",
       "    }\n",
       "\n",
       "    .dataframe tbody tr th {\n",
       "        vertical-align: top;\n",
       "    }\n",
       "\n",
       "    .dataframe thead th {\n",
       "        text-align: right;\n",
       "    }\n",
       "</style>\n",
       "<table border=\"1\" class=\"dataframe\">\n",
       "  <thead>\n",
       "    <tr style=\"text-align: right;\">\n",
       "      <th></th>\n",
       "      <th>Coefficient</th>\n",
       "    </tr>\n",
       "  </thead>\n",
       "  <tbody>\n",
       "    <tr>\n",
       "      <th>hours_of_daylight</th>\n",
       "      <td>0.818160</td>\n",
       "    </tr>\n",
       "    <tr>\n",
       "      <th>public_holiday</th>\n",
       "      <td>55.969757</td>\n",
       "    </tr>\n",
       "    <tr>\n",
       "      <th>mean_temperature</th>\n",
       "      <td>11.138777</td>\n",
       "    </tr>\n",
       "  </tbody>\n",
       "</table>\n",
       "</div>"
      ],
      "text/plain": [
       "                   Coefficient\n",
       "hours_of_daylight     0.818160\n",
       "public_holiday       55.969757\n",
       "mean_temperature     11.138777"
      ]
     },
     "execution_count": 72,
     "metadata": {},
     "output_type": "execute_result"
    }
   ],
   "source": [
    "## coefficients of model parameters\n",
    "coeff_df = pd.DataFrame(regr.coef_, columns=X_train.columns).transpose()\n",
    "coeff_df = coeff_df.rename(columns={0:'Coefficient'})\n",
    "coeff_df"
   ]
  },
  {
   "cell_type": "code",
   "execution_count": 23,
   "metadata": {},
   "outputs": [
    {
     "name": "stdout",
     "output_type": "stream",
     "text": [
      "Mean Absolute Error: 50.35451887835461\n",
      "Mean Squared Error: 3237.2793637717655\n",
      "Root Mean Squared Error: 56.89709451080754\n"
     ]
    }
   ],
   "source": [
    "## model accuracy metrics\n",
    "print('Mean Absolute Error:', mean_absolute_error(y_test, regr.predict(X_test)))  \n",
    "print('Mean Squared Error:', mean_squared_error(y_test, regr.predict(X_test)))  \n",
    "print('Root Mean Squared Error:', np.sqrt(mean_squared_error(y_test, regr.predict(X_test))))"
   ]
  },
  {
   "cell_type": "markdown",
   "metadata": {},
   "source": [
    "### conclusion\n",
    "Based on the correlation results and regression models of sklearn and statsmodel it can be concluded that there is significant quantitative relationship between factors and beer sales"
   ]
  },
  {
   "cell_type": "markdown",
   "metadata": {},
   "source": [
    "### Question 2\n",
    "### additional factors that can explain variance in sales of beer"
   ]
  },
  {
   "cell_type": "code",
   "execution_count": 26,
   "metadata": {},
   "outputs": [],
   "source": [
    "### create additional features\n",
    "data['Day'] = data['date'].dt.day\n",
    "data['DayofYear'] = data['date'].dt.dayofyear\n",
    "data['Weekday'] = data['date'].dt.dayofweek\n",
    "data['Month'] = data['date'].dt.month\n",
    "\n",
    "## create feature lags\n",
    "data['lag1'] = data['crates_sold'].shift(1)\n",
    "data['lag2'] = data['crates_sold'].shift(2)\n",
    "data['lag3'] = data['crates_sold'].shift(3)\n",
    "data['lag4'] = data['crates_sold'].shift(4)\n",
    "data['lag5'] = data['crates_sold'].shift(5)\n",
    "data['lag6'] = data['crates_sold'].shift(6)\n",
    "data['lag7'] = data['crates_sold'].shift(7)\n",
    "data['lag14'] = data['crates_sold'].shift(14)\n",
    "data['lag7_14'] = data['lag14'] - data['lag7']\n",
    "data['lag21'] = data['crates_sold'].shift(21)\n",
    "data['lag28'] = data['crates_sold'].shift(28)\n",
    "\n",
    "### create dow moving average\n",
    "data['ma2'] = data.groupby('Weekday')['crates_sold'].transform(lambda x: x.rolling(window=2).mean().shift(1))\n",
    "data['ma3'] = data.groupby('Weekday')['crates_sold'].transform(lambda x: x.rolling(window=3).mean().shift(1))\n",
    "data['ma4'] = data.groupby('Weekday')['crates_sold'].transform(lambda x: x.rolling(window=4).mean().shift(1))\n"
   ]
  },
  {
   "cell_type": "code",
   "execution_count": 27,
   "metadata": {},
   "outputs": [],
   "source": [
    "#### analyse the correlation between beer sales and factors\n",
    "corr_data =  data[['crates_sold', 'hours_of_daylight', 'public_holiday',\n",
    "       'mean_temperature', 'Day', 'DayofYear', 'Weekday', 'Month', 'lag1',\n",
    "       'lag2', 'lag3', 'lag4', 'lag5', 'lag6', 'lag7', 'lag14', 'lag21',\n",
    "       'lag28', 'ma2', 'ma3', 'ma4']]\n",
    "corr_sales = corr_data.corr()['crates_sold'].abs()\n",
    "columns = corr_sales[corr_sales >.01].index\n",
    "corr_sales = corr_sales.filter(columns).sort_values()\n",
    "corr_sales =  pd.DataFrame(corr_sales)\n",
    "corr_sales = corr_sales.reset_index()\n",
    "corr_sales =  corr_sales.rename(columns={'index':'features','crates_sold':'corr'})"
   ]
  },
  {
   "cell_type": "code",
   "execution_count": 28,
   "metadata": {},
   "outputs": [
    {
     "data": {
      "image/png": "[encoded data removed]",
      "text/plain": [
       "<Figure size 576x576 with 1 Axes>"
      ]
     },
     "metadata": {
      "needs_background": "light"
     },
     "output_type": "display_data"
    }
   ],
   "source": [
    "## plot correlation\n",
    "ind = np.arange(corr_sales.shape[0])\n",
    "width = 0.9\n",
    "fig, ax = plt.subplots(figsize=(8,8))\n",
    "rects = ax.barh(ind, corr_sales['corr'].values, color='r')\n",
    "ax.set_yticks(ind)\n",
    "ax.set_yticklabels(corr_sales.features.values, rotation='horizontal')\n",
    "ax.set_xlabel(\"absolute corr\", fontsize = 10)\n",
    "ax.set_title(\"Correlations between features and corr_sales \", fontsize = 8)\n",
    "plt.show()"
   ]
  },
  {
   "cell_type": "code",
   "execution_count": 79,
   "metadata": {},
   "outputs": [],
   "source": [
    "## make a copy of data\n",
    "data = data.fillna(0).copy()"
   ]
  },
  {
   "cell_type": "code",
   "execution_count": 80,
   "metadata": {},
   "outputs": [],
   "source": [
    "### split the data into train and test to train model with additional features\n",
    "train = data[data.date <= '2019-11-30']\n",
    "test = data[data.date > '2019-11-30']\n",
    "\n",
    "X_train =  train[['hours_of_daylight', 'public_holiday',\n",
    "       'mean_temperature', 'Month', 'Day', 'DayofYear', 'Weekday', 'lag1',\n",
    "       'lag2', 'lag3', 'lag4', 'lag5', 'lag6', 'lag7', 'lag14', 'lag7_14',\n",
    "       'lag21', 'lag28', 'ma2', 'ma3', 'ma4']]\n",
    "\n",
    "y_train =  train[['crates_sold']]\n",
    "\n",
    "X_test = test[['hours_of_daylight', 'public_holiday',\n",
    "       'mean_temperature', 'Month', 'Day', 'DayofYear', 'Weekday', 'lag1',\n",
    "       'lag2', 'lag3', 'lag4', 'lag5', 'lag6', 'lag7', 'lag14', 'lag7_14',\n",
    "       'lag21', 'lag28', 'ma2', 'ma3', 'ma4']]\n",
    "\n",
    "y_test = test[['crates_sold']]"
   ]
  },
  {
   "cell_type": "code",
   "execution_count": 81,
   "metadata": {},
   "outputs": [
    {
     "data": {
      "text/plain": [
       "LinearRegression(copy_X=True, fit_intercept=True, n_jobs=None, normalize=False)"
      ]
     },
     "execution_count": 81,
     "metadata": {},
     "output_type": "execute_result"
    }
   ],
   "source": [
    "## fit the model\n",
    "model =  linear_model.LinearRegression()\n",
    "model.fit(X_train, y_train)"
   ]
  },
  {
   "cell_type": "code",
   "execution_count": 82,
   "metadata": {},
   "outputs": [
    {
     "data": {
      "text/plain": [
       "(array([51.06589926]),\n",
       " array([[-3.72747779e+00,  6.23554068e+01,  1.03821451e+01,\n",
       "          4.17402291e+02,  1.35201190e+01, -1.37091454e+01,\n",
       "          2.19181244e+00,  8.15525932e-02, -4.40904757e-02,\n",
       "         -3.88382797e-02, -3.49821942e-02, -4.00405761e-02,\n",
       "          4.76032222e-02,  5.58136621e-02,  1.44801407e-02,\n",
       "         -4.77727420e-03,  4.68729949e-02, -1.33462388e-03,\n",
       "          1.68687779e-02, -5.67452763e-02,  5.77588937e-02]]))"
      ]
     },
     "execution_count": 82,
     "metadata": {},
     "output_type": "execute_result"
    }
   ],
   "source": [
    "## model parameter estimates\n",
    "model.intercept_ ,model.coef_"
   ]
  },
  {
   "cell_type": "code",
   "execution_count": 83,
   "metadata": {},
   "outputs": [
    {
     "data": {
      "text/html": [
       "<div>\n",
       "<style scoped>\n",
       "    .dataframe tbody tr th:only-of-type {\n",
       "        vertical-align: middle;\n",
       "    }\n",
       "\n",
       "    .dataframe tbody tr th {\n",
       "        vertical-align: top;\n",
       "    }\n",
       "\n",
       "    .dataframe thead th {\n",
       "        text-align: right;\n",
       "    }\n",
       "</style>\n",
       "<table border=\"1\" class=\"dataframe\">\n",
       "  <thead>\n",
       "    <tr style=\"text-align: right;\">\n",
       "      <th></th>\n",
       "      <th>Coefficient</th>\n",
       "    </tr>\n",
       "  </thead>\n",
       "  <tbody>\n",
       "    <tr>\n",
       "      <th>hours_of_daylight</th>\n",
       "      <td>-3.727478</td>\n",
       "    </tr>\n",
       "    <tr>\n",
       "      <th>public_holiday</th>\n",
       "      <td>62.355407</td>\n",
       "    </tr>\n",
       "    <tr>\n",
       "      <th>mean_temperature</th>\n",
       "      <td>10.382145</td>\n",
       "    </tr>\n",
       "    <tr>\n",
       "      <th>Month</th>\n",
       "      <td>417.402291</td>\n",
       "    </tr>\n",
       "    <tr>\n",
       "      <th>Day</th>\n",
       "      <td>13.520119</td>\n",
       "    </tr>\n",
       "    <tr>\n",
       "      <th>DayofYear</th>\n",
       "      <td>-13.709145</td>\n",
       "    </tr>\n",
       "    <tr>\n",
       "      <th>Weekday</th>\n",
       "      <td>2.191812</td>\n",
       "    </tr>\n",
       "    <tr>\n",
       "      <th>lag1</th>\n",
       "      <td>0.081553</td>\n",
       "    </tr>\n",
       "    <tr>\n",
       "      <th>lag2</th>\n",
       "      <td>-0.044090</td>\n",
       "    </tr>\n",
       "    <tr>\n",
       "      <th>lag3</th>\n",
       "      <td>-0.038838</td>\n",
       "    </tr>\n",
       "    <tr>\n",
       "      <th>lag4</th>\n",
       "      <td>-0.034982</td>\n",
       "    </tr>\n",
       "    <tr>\n",
       "      <th>lag5</th>\n",
       "      <td>-0.040041</td>\n",
       "    </tr>\n",
       "    <tr>\n",
       "      <th>lag6</th>\n",
       "      <td>0.047603</td>\n",
       "    </tr>\n",
       "    <tr>\n",
       "      <th>lag7</th>\n",
       "      <td>0.055814</td>\n",
       "    </tr>\n",
       "    <tr>\n",
       "      <th>lag14</th>\n",
       "      <td>0.014480</td>\n",
       "    </tr>\n",
       "    <tr>\n",
       "      <th>lag7_14</th>\n",
       "      <td>-0.004777</td>\n",
       "    </tr>\n",
       "    <tr>\n",
       "      <th>lag21</th>\n",
       "      <td>0.046873</td>\n",
       "    </tr>\n",
       "    <tr>\n",
       "      <th>lag28</th>\n",
       "      <td>-0.001335</td>\n",
       "    </tr>\n",
       "    <tr>\n",
       "      <th>ma2</th>\n",
       "      <td>0.016869</td>\n",
       "    </tr>\n",
       "    <tr>\n",
       "      <th>ma3</th>\n",
       "      <td>-0.056745</td>\n",
       "    </tr>\n",
       "    <tr>\n",
       "      <th>ma4</th>\n",
       "      <td>0.057759</td>\n",
       "    </tr>\n",
       "  </tbody>\n",
       "</table>\n",
       "</div>"
      ],
      "text/plain": [
       "                   Coefficient\n",
       "hours_of_daylight    -3.727478\n",
       "public_holiday       62.355407\n",
       "mean_temperature     10.382145\n",
       "Month               417.402291\n",
       "Day                  13.520119\n",
       "DayofYear           -13.709145\n",
       "Weekday               2.191812\n",
       "lag1                  0.081553\n",
       "lag2                 -0.044090\n",
       "lag3                 -0.038838\n",
       "lag4                 -0.034982\n",
       "lag5                 -0.040041\n",
       "lag6                  0.047603\n",
       "lag7                  0.055814\n",
       "lag14                 0.014480\n",
       "lag7_14              -0.004777\n",
       "lag21                 0.046873\n",
       "lag28                -0.001335\n",
       "ma2                   0.016869\n",
       "ma3                  -0.056745\n",
       "ma4                   0.057759"
      ]
     },
     "execution_count": 83,
     "metadata": {},
     "output_type": "execute_result"
    }
   ],
   "source": [
    "coeff_df = pd.DataFrame(model.coef_, columns=X_train.columns).transpose()\n",
    "coeff_df = coeff_df.rename(columns={0:'Coefficient'})\n",
    "coeff_df"
   ]
  },
  {
   "cell_type": "code",
   "execution_count": 84,
   "metadata": {},
   "outputs": [
    {
     "data": {
      "text/html": [
       "<div>\n",
       "<style scoped>\n",
       "    .dataframe tbody tr th:only-of-type {\n",
       "        vertical-align: middle;\n",
       "    }\n",
       "\n",
       "    .dataframe tbody tr th {\n",
       "        vertical-align: top;\n",
       "    }\n",
       "\n",
       "    .dataframe thead th {\n",
       "        text-align: right;\n",
       "    }\n",
       "</style>\n",
       "<table border=\"1\" class=\"dataframe\">\n",
       "  <thead>\n",
       "    <tr style=\"text-align: right;\">\n",
       "      <th></th>\n",
       "      <th>actual</th>\n",
       "      <th>y_pred</th>\n",
       "    </tr>\n",
       "  </thead>\n",
       "  <tbody>\n",
       "    <tr>\n",
       "      <th>0</th>\n",
       "      <td>562</td>\n",
       "      <td>537.154463</td>\n",
       "    </tr>\n",
       "    <tr>\n",
       "      <th>1</th>\n",
       "      <td>564</td>\n",
       "      <td>536.518170</td>\n",
       "    </tr>\n",
       "    <tr>\n",
       "      <th>2</th>\n",
       "      <td>537</td>\n",
       "      <td>533.754436</td>\n",
       "    </tr>\n",
       "    <tr>\n",
       "      <th>3</th>\n",
       "      <td>580</td>\n",
       "      <td>554.946812</td>\n",
       "    </tr>\n",
       "    <tr>\n",
       "      <th>4</th>\n",
       "      <td>534</td>\n",
       "      <td>533.402091</td>\n",
       "    </tr>\n",
       "  </tbody>\n",
       "</table>\n",
       "</div>"
      ],
      "text/plain": [
       "   actual      y_pred\n",
       "0     562  537.154463\n",
       "1     564  536.518170\n",
       "2     537  533.754436\n",
       "3     580  554.946812\n",
       "4     534  533.402091"
      ]
     },
     "execution_count": 84,
     "metadata": {},
     "output_type": "execute_result"
    }
   ],
   "source": [
    "## concate actual and predicted sales\n",
    "df = pd.concat([y_test.reset_index(drop=True).rename(columns={'crates_sold':'actual'}), pd.DataFrame(model.predict(X_test)).rename(columns={0:'y_pred'})], axis = 1)\n",
    "df.head()"
   ]
  },
  {
   "cell_type": "code",
   "execution_count": 85,
   "metadata": {
    "scrolled": true
   },
   "outputs": [
    {
     "data": {
      "text/plain": [
       "<matplotlib.axes._subplots.AxesSubplot at 0xeca9a88>"
      ]
     },
     "execution_count": 85,
     "metadata": {},
     "output_type": "execute_result"
    },
    {
     "data": {
      "image/png": "[encoded data removed]",
      "text/plain": [
       "<Figure size 1008x576 with 1 Axes>"
      ]
     },
     "metadata": {
      "needs_background": "light"
     },
     "output_type": "display_data"
    }
   ],
   "source": [
    "##plot actual vs predicted\n",
    "df1 = df.copy()\n",
    "df1.plot(kind='bar',figsize=(14,8))"
   ]
  },
  {
   "cell_type": "markdown",
   "metadata": {},
   "source": [
    "## fit XGboost model regressor to get some more insights about important features"
   ]
  },
  {
   "cell_type": "code",
   "execution_count": 86,
   "metadata": {},
   "outputs": [],
   "source": [
    "######\n",
    "import xgboost as xgb\n",
    "mxgb = xgb.XGBRegressor()"
   ]
  },
  {
   "cell_type": "code",
   "execution_count": 87,
   "metadata": {},
   "outputs": [
    {
     "data": {
      "text/plain": [
       "XGBRegressor(base_score=0.5, booster=None, colsample_bylevel=1,\n",
       "             colsample_bynode=1, colsample_bytree=1, gamma=0, gpu_id=-1,\n",
       "             importance_type='gain', interaction_constraints=None,\n",
       "             learning_rate=0.300000012, max_delta_step=0, max_depth=6,\n",
       "             min_child_weight=1, missing=nan, monotone_constraints=None,\n",
       "             n_estimators=100, n_jobs=0, num_parallel_tree=1,\n",
       "             objective='reg:squarederror', random_state=0, reg_alpha=0,\n",
       "             reg_lambda=1, scale_pos_weight=1, subsample=1, tree_method=None,\n",
       "             validate_parameters=False, verbosity=None)"
      ]
     },
     "execution_count": 87,
     "metadata": {},
     "output_type": "execute_result"
    }
   ],
   "source": [
    "mxgb.fit(X_train,y_train)"
   ]
  },
  {
   "cell_type": "code",
   "execution_count": 90,
   "metadata": {},
   "outputs": [
    {
     "name": "stdout",
     "output_type": "stream",
     "text": [
      "Mean Absolute Error: 36.066042007938506\n",
      "Mean Squared Error: 1745.4651580948623\n",
      "Root Mean Squared Error: 41.77876443954347\n"
     ]
    }
   ],
   "source": [
    "print('Mean Absolute Error:', mean_absolute_error(y_test, mxgb.predict(X_test)))  \n",
    "print('Mean Squared Error:', mean_squared_error(y_test, mxgb.predict(X_test)))  \n",
    "print('Root Mean Squared Error:', np.sqrt(mean_squared_error(y_test, mxgb.predict(X_test))))"
   ]
  },
  {
   "cell_type": "code",
   "execution_count": 91,
   "metadata": {},
   "outputs": [
    {
     "data": {
      "text/plain": [
       "<matplotlib.axes._subplots.AxesSubplot at 0xfa01608>"
      ]
     },
     "execution_count": 91,
     "metadata": {},
     "output_type": "execute_result"
    },
    {
     "data": {
      "image/png": "[encoded data removed]",
      "text/plain": [
       "<Figure size 720x720 with 1 Axes>"
      ]
     },
     "metadata": {
      "needs_background": "light"
     },
     "output_type": "display_data"
    }
   ],
   "source": [
    "fig, ax = plt.subplots(1,1,figsize=(10,10))\n",
    "xgb.plot_importance(mxgb, max_num_features=20, ax=ax)"
   ]
  },
  {
   "cell_type": "code",
   "execution_count": null,
   "metadata": {},
   "outputs": [],
   "source": [
    "## its interestnig to observe that hours of light was not that significant in regression model however its at top in xgboost"
   ]
  }
 ],
 "metadata": {
  "kernelspec": {
   "display_name": "Python 3",
   "language": "python",
   "name": "python3"
  },
  "language_info": {
   "codemirror_mode": {
    "name": "ipython",
    "version": 3
   },
   "file_extension": ".py",
   "mimetype": "text/x-python",
   "name": "python",
   "nbconvert_exporter": "python",
   "pygments_lexer": "ipython3",
   "version": "3.7.6"
  }
 },
 "nbformat": 4,
 "nbformat_minor": 4
}
