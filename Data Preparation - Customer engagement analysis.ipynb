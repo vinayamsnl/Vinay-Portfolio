{
 "cells": [
  {
   "cell_type": "markdown",
   "metadata": {},
   "source": [
    "#### Notebook Content: \n",
    "\n",
    "* Read CSV files and prepare data for exploratory data analysis\n",
    "\n",
    "#### Files used:\n",
    "* Users data,\n",
    "* Transactions,\n",
    "* Notification - all the notifications sent to users and\n",
    "* Devices"
   ]
  },
  {
   "cell_type": "markdown",
   "metadata": {},
   "source": [
    "#### Load libraries"
   ]
  },
  {
   "cell_type": "code",
   "execution_count": 20,
   "metadata": {},
   "outputs": [],
   "source": [
    "import pandas as pd\n",
    "import numpy as np\n",
    "import matplotlib.pyplot as plt\n",
    "import seaborn as sns"
   ]
  },
  {
   "cell_type": "code",
   "execution_count": 21,
   "metadata": {},
   "outputs": [],
   "source": [
    "# Set working directory\n",
    "import os\n",
    "os.getcwd() # get working directory \n",
    "os.chdir('/Users/vinaykumar/Documents/Python_scripts/Project A/Data/') "
   ]
  },
  {
   "cell_type": "markdown",
   "metadata": {},
   "source": [
    "#### Read users, transactions,notification and devices data from csv files"
   ]
  },
  {
   "cell_type": "code",
   "execution_count": 22,
   "metadata": {},
   "outputs": [
    {
     "name": "stdout",
     "output_type": "stream",
     "text": [
      "<class 'pandas.core.frame.DataFrame'>\n",
      "RangeIndex: 19430 entries, 0 to 19429\n",
      "Data columns (total 7 columns):\n",
      " #   Column                    Non-Null Count  Dtype  \n",
      "---  ------                    --------------  -----  \n",
      " 0   user_id                   19430 non-null  object \n",
      " 1   birth_year                19430 non-null  int64  \n",
      " 2   country                   19430 non-null  object \n",
      " 3   created_date              19430 non-null  object \n",
      " 4   num_contacts              19430 non-null  int64  \n",
      " 5   num_successful_referrals  19430 non-null  int64  \n",
      " 6   engaged                   12087 non-null  float64\n",
      "dtypes: float64(1), int64(3), object(3)\n",
      "memory usage: 1.0+ MB\n"
     ]
    }
   ],
   "source": [
    "users_df = pd.read_csv('users.csv',header=0) #users data\n",
    "users_df = users_df.drop(['Unnamed: 0'], axis = 1)\n",
    "users_df.info()"
   ]
  },
  {
   "cell_type": "markdown",
   "metadata": {},
   "source": []
  },
  {
   "cell_type": "code",
   "execution_count": 24,
   "metadata": {},
   "outputs": [
    {
     "name": "stdout",
     "output_type": "stream",
     "text": [
      "<class 'pandas.core.frame.DataFrame'>\n",
      "RangeIndex: 82202 entries, 0 to 82201\n",
      "Data columns (total 5 columns):\n",
      " #   Column             Non-Null Count  Dtype  \n",
      "---  ------             --------------  -----  \n",
      " 0   transaction_id     82202 non-null  object \n",
      " 1   transactions_type  82202 non-null  object \n",
      " 2   amount_usd         82202 non-null  float64\n",
      " 3   user_id            82202 non-null  object \n",
      " 4   created_date       82202 non-null  object \n",
      "dtypes: float64(1), object(4)\n",
      "memory usage: 3.1+ MB\n"
     ]
    }
   ],
   "source": [
    "transactions = pd.read_csv('transactions.csv',header=0) # transactions data\n",
    "transactions = transactions.drop(['Unnamed: 0'], axis = 1) # drop unwanted column\n",
    "transactions.info()"
   ]
  },
  {
   "cell_type": "code",
   "execution_count": 5,
   "metadata": {},
   "outputs": [
    {
     "name": "stdout",
     "output_type": "stream",
     "text": [
      "<class 'pandas.core.frame.DataFrame'>\n",
      "RangeIndex: 121813 entries, 0 to 121812\n",
      "Data columns (total 5 columns):\n",
      " #   Column        Non-Null Count   Dtype \n",
      "---  ------        --------------   ----- \n",
      " 0   reason        121813 non-null  object\n",
      " 1   channel       121813 non-null  object\n",
      " 2   status        121813 non-null  object\n",
      " 3   user_id       121813 non-null  object\n",
      " 4   created_date  121813 non-null  object\n",
      "dtypes: object(5)\n",
      "memory usage: 4.6+ MB\n"
     ]
    }
   ],
   "source": [
    "notifications = pd.read_csv('notifications.csv',header=0) # notification data\n",
    "notifications.info()"
   ]
  },
  {
   "cell_type": "code",
   "execution_count": 25,
   "metadata": {},
   "outputs": [
    {
     "name": "stdout",
     "output_type": "stream",
     "text": [
      "<class 'pandas.core.frame.DataFrame'>\n",
      "RangeIndex: 19430 entries, 0 to 19429\n",
      "Data columns (total 2 columns):\n",
      " #   Column   Non-Null Count  Dtype \n",
      "---  ------   --------------  ----- \n",
      " 0   brand    19430 non-null  object\n",
      " 1   user_id  19430 non-null  object\n",
      "dtypes: object(2)\n",
      "memory usage: 303.7+ KB\n"
     ]
    }
   ],
   "source": [
    "devices = pd.read_csv('devices.csv',header=0) # devices data\n",
    "devices.info()"
   ]
  },
  {
   "cell_type": "code",
   "execution_count": 26,
   "metadata": {},
   "outputs": [],
   "source": [
    "# create a copy of user dataframe \n",
    "users = users_df.copy()"
   ]
  },
  {
   "cell_type": "markdown",
   "metadata": {},
   "source": [
    "##### Rename calumns in users and notification dataframes"
   ]
  },
  {
   "cell_type": "code",
   "execution_count": 27,
   "metadata": {},
   "outputs": [],
   "source": [
    "users = users.rename(columns = {'created_date':'account_date'}) "
   ]
  },
  {
   "cell_type": "code",
   "execution_count": 28,
   "metadata": {},
   "outputs": [],
   "source": [
    "notifications = notifications.rename(columns = {'created_date':'notification_date'})"
   ]
  },
  {
   "cell_type": "markdown",
   "metadata": {},
   "source": [
    "##### Convert Date columns from object to date format"
   ]
  },
  {
   "cell_type": "code",
   "execution_count": 29,
   "metadata": {},
   "outputs": [],
   "source": [
    "# convert account_date\n",
    "users['account_date'] = pd.to_datetime(users.account_date,format ='%Y-%m-%d')"
   ]
  },
  {
   "cell_type": "code",
   "execution_count": 30,
   "metadata": {},
   "outputs": [],
   "source": [
    "# convert notification_date\n",
    "notifications['notification_date'] = pd.to_datetime(notifications.notification_date,format ='%Y-%m-%d')"
   ]
  },
  {
   "cell_type": "markdown",
   "metadata": {},
   "source": [
    "##### New Feature calculation in users data - Age of Customer and Age of Account"
   ]
  },
  {
   "cell_type": "code",
   "execution_count": 31,
   "metadata": {},
   "outputs": [],
   "source": [
    "# Use birth_year column to calculate age of customer \n",
    "users['customer_age'] =  2020 - users['birth_year']\n",
    "users =  users.drop('birth_year', axis=1) # drop birth_year column\n"
   ]
  },
  {
   "cell_type": "code",
   "execution_count": 32,
   "metadata": {},
   "outputs": [
    {
     "name": "stdout",
     "output_type": "stream",
     "text": [
      "<class 'pandas.core.frame.DataFrame'>\n",
      "RangeIndex: 19430 entries, 0 to 19429\n",
      "Data columns (total 8 columns):\n",
      " #   Column                    Non-Null Count  Dtype         \n",
      "---  ------                    --------------  -----         \n",
      " 0   user_id                   19430 non-null  object        \n",
      " 1   country                   19430 non-null  object        \n",
      " 2   account_date              19430 non-null  datetime64[ns]\n",
      " 3   num_contacts              19430 non-null  int64         \n",
      " 4   num_successful_referrals  19430 non-null  int64         \n",
      " 5   engaged                   12087 non-null  float64       \n",
      " 6   customer_age              19430 non-null  int64         \n",
      " 7   account_age_months        19430 non-null  float64       \n",
      "dtypes: datetime64[ns](1), float64(2), int64(3), object(2)\n",
      "memory usage: 1.2+ MB\n"
     ]
    }
   ],
   "source": [
    "# use account_date column to calculate age of account\n",
    "users['account_age_months'] =  round(pd.to_numeric((pd.to_datetime('2020-01-31')- users['account_date'])/np.timedelta64(1,'M')))\n",
    "users.info()"
   ]
  },
  {
   "cell_type": "markdown",
   "metadata": {},
   "source": [
    "###### Calculate number of notification sent to every customer by counting all the notifications sent to per customers"
   ]
  },
  {
   "cell_type": "code",
   "execution_count": 33,
   "metadata": {},
   "outputs": [],
   "source": [
    "notifications1 = notifications.groupby('user_id').agg({'notification_date': 'count'})\n",
    "notifications1.columns = ['notifications_count']"
   ]
  },
  {
   "cell_type": "markdown",
   "metadata": {},
   "source": [
    "##### Merge notification count feature to users dataframe "
   ]
  },
  {
   "cell_type": "code",
   "execution_count": 34,
   "metadata": {},
   "outputs": [],
   "source": [
    "users = users.merge(notifications1, on=['user_id'], how='left') "
   ]
  },
  {
   "cell_type": "markdown",
   "metadata": {},
   "source": [
    "##### Merge device feature to users dataframe "
   ]
  },
  {
   "cell_type": "code",
   "execution_count": 35,
   "metadata": {},
   "outputs": [],
   "source": [
    "### merge devices info\n",
    "users =  users.merge(devices, on=['user_id'],how='left')"
   ]
  },
  {
   "cell_type": "code",
   "execution_count": 36,
   "metadata": {},
   "outputs": [
    {
     "name": "stdout",
     "output_type": "stream",
     "text": [
      "<class 'pandas.core.frame.DataFrame'>\n",
      "Int64Index: 19430 entries, 0 to 19429\n",
      "Data columns (total 10 columns):\n",
      " #   Column                    Non-Null Count  Dtype         \n",
      "---  ------                    --------------  -----         \n",
      " 0   user_id                   19430 non-null  object        \n",
      " 1   country                   19430 non-null  object        \n",
      " 2   account_date              19430 non-null  datetime64[ns]\n",
      " 3   num_contacts              19430 non-null  int64         \n",
      " 4   num_successful_referrals  19430 non-null  int64         \n",
      " 5   engaged                   12087 non-null  float64       \n",
      " 6   customer_age              19430 non-null  int64         \n",
      " 7   account_age_months        19430 non-null  float64       \n",
      " 8   notifications_count       18953 non-null  float64       \n",
      " 9   brand                     19430 non-null  object        \n",
      "dtypes: datetime64[ns](1), float64(3), int64(3), object(3)\n",
      "memory usage: 1.6+ MB\n"
     ]
    }
   ],
   "source": [
    "# Check final data set\n",
    "users.info()"
   ]
  },
  {
   "cell_type": "code",
   "execution_count": 37,
   "metadata": {},
   "outputs": [
    {
     "data": {
      "text/html": [
       "<div>\n",
       "<style scoped>\n",
       "    .dataframe tbody tr th:only-of-type {\n",
       "        vertical-align: middle;\n",
       "    }\n",
       "\n",
       "    .dataframe tbody tr th {\n",
       "        vertical-align: top;\n",
       "    }\n",
       "\n",
       "    .dataframe thead th {\n",
       "        text-align: right;\n",
       "    }\n",
       "</style>\n",
       "<table border=\"1\" class=\"dataframe\">\n",
       "  <thead>\n",
       "    <tr style=\"text-align: right;\">\n",
       "      <th></th>\n",
       "      <th>user_id</th>\n",
       "      <th>country</th>\n",
       "      <th>account_date</th>\n",
       "      <th>num_contacts</th>\n",
       "      <th>num_successful_referrals</th>\n",
       "      <th>engaged</th>\n",
       "      <th>customer_age</th>\n",
       "      <th>account_age_months</th>\n",
       "      <th>notifications_count</th>\n",
       "      <th>brand</th>\n",
       "    </tr>\n",
       "  </thead>\n",
       "  <tbody>\n",
       "    <tr>\n",
       "      <th>0</th>\n",
       "      <td>user_0</td>\n",
       "      <td>PL</td>\n",
       "      <td>2018-01-13 05:15:15.599466</td>\n",
       "      <td>3</td>\n",
       "      <td>0</td>\n",
       "      <td>1.0</td>\n",
       "      <td>31</td>\n",
       "      <td>25.0</td>\n",
       "      <td>8.0</td>\n",
       "      <td>Apple</td>\n",
       "    </tr>\n",
       "    <tr>\n",
       "      <th>1</th>\n",
       "      <td>user_1</td>\n",
       "      <td>GB</td>\n",
       "      <td>2018-01-29 03:38:46.676876</td>\n",
       "      <td>21</td>\n",
       "      <td>0</td>\n",
       "      <td>1.0</td>\n",
       "      <td>45</td>\n",
       "      <td>24.0</td>\n",
       "      <td>7.0</td>\n",
       "      <td>Apple</td>\n",
       "    </tr>\n",
       "    <tr>\n",
       "      <th>2</th>\n",
       "      <td>user_2</td>\n",
       "      <td>PL</td>\n",
       "      <td>2018-01-18 19:17:31.229096</td>\n",
       "      <td>21</td>\n",
       "      <td>0</td>\n",
       "      <td>1.0</td>\n",
       "      <td>33</td>\n",
       "      <td>24.0</td>\n",
       "      <td>12.0</td>\n",
       "      <td>Android</td>\n",
       "    </tr>\n",
       "    <tr>\n",
       "      <th>3</th>\n",
       "      <td>user_3</td>\n",
       "      <td>FR</td>\n",
       "      <td>2018-01-15 18:47:56.723104</td>\n",
       "      <td>0</td>\n",
       "      <td>0</td>\n",
       "      <td>1.0</td>\n",
       "      <td>26</td>\n",
       "      <td>24.0</td>\n",
       "      <td>8.0</td>\n",
       "      <td>Apple</td>\n",
       "    </tr>\n",
       "    <tr>\n",
       "      <th>4</th>\n",
       "      <td>user_4</td>\n",
       "      <td>GB</td>\n",
       "      <td>2018-01-11 00:36:46.673673</td>\n",
       "      <td>2</td>\n",
       "      <td>0</td>\n",
       "      <td>1.0</td>\n",
       "      <td>35</td>\n",
       "      <td>25.0</td>\n",
       "      <td>4.0</td>\n",
       "      <td>Apple</td>\n",
       "    </tr>\n",
       "  </tbody>\n",
       "</table>\n",
       "</div>"
      ],
      "text/plain": [
       "  user_id country               account_date  num_contacts  \\\n",
       "0  user_0      PL 2018-01-13 05:15:15.599466             3   \n",
       "1  user_1      GB 2018-01-29 03:38:46.676876            21   \n",
       "2  user_2      PL 2018-01-18 19:17:31.229096            21   \n",
       "3  user_3      FR 2018-01-15 18:47:56.723104             0   \n",
       "4  user_4      GB 2018-01-11 00:36:46.673673             2   \n",
       "\n",
       "   num_successful_referrals  engaged  customer_age  account_age_months  \\\n",
       "0                         0      1.0            31                25.0   \n",
       "1                         0      1.0            45                24.0   \n",
       "2                         0      1.0            33                24.0   \n",
       "3                         0      1.0            26                24.0   \n",
       "4                         0      1.0            35                25.0   \n",
       "\n",
       "   notifications_count    brand  \n",
       "0                  8.0    Apple  \n",
       "1                  7.0    Apple  \n",
       "2                 12.0  Android  \n",
       "3                  8.0    Apple  \n",
       "4                  4.0    Apple  "
      ]
     },
     "execution_count": 37,
     "metadata": {},
     "output_type": "execute_result"
    }
   ],
   "source": [
    "users = users.fillna(0)\n",
    "users.head()"
   ]
  }
 ],
 "metadata": {
  "kernelspec": {
   "display_name": "Python 3",
   "language": "python",
   "name": "python3"
  },
  "language_info": {
   "codemirror_mode": {
    "name": "ipython",
    "version": 3
   },
   "file_extension": ".py",
   "mimetype": "text/x-python",
   "name": "python",
   "nbconvert_exporter": "python",
   "pygments_lexer": "ipython3",
   "version": "3.7.6"
  }
 },
 "nbformat": 4,
 "nbformat_minor": 4
}
