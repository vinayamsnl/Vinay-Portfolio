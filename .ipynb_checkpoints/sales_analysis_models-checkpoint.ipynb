{
 "cells": [
  {
   "cell_type": "markdown",
   "metadata": {},
   "source": [
    "# Data Science Project example: EDA and Model (Regression and XGBoost)\n",
    "\n",
    "The objective of this example is quantitative assessement of the effect of external factors on beer sales. The (artifical) dataset 'Beverage sales data.csv'contains the follwoing values for each day of 2019:\n",
    "\n",
    "* Number of crates of beers sold\n",
    "* Hours of daylight\n",
    "* Public holiday (0 or 1)\n",
    "* Mean temperature in °C"
   ]
  },
  {
   "cell_type": "markdown",
   "metadata": {},
   "source": [
    "### Quantitatively assess the impact of these factors on beer sales"
   ]
  },
  {
   "cell_type": "code",
   "execution_count": 1,
   "metadata": {},
   "outputs": [],
   "source": [
    "import pandas as pd\n",
    "import numpy as np\n",
    "import matplotlib.pyplot as plt\n",
    "import seaborn as sns\n",
    "#pd.set_option('display.float_format', lambda x: '%.2f' % x)\n",
    "pd.options.display.max_columns = None"
   ]
  },
  {
   "cell_type": "code",
   "execution_count": 2,
   "metadata": {},
   "outputs": [],
   "source": [
    "# Set working directory\n",
    "import os\n",
    "os.getcwd() # get working directory \n",
    "os.chdir('/Users/vinaykumar/Documents/Python_scripts/sales analysis/') "
   ]
  },
  {
   "cell_type": "code",
   "execution_count": 3,
   "metadata": {},
   "outputs": [],
   "source": [
    "##laod data and make a copy\n",
    "data1 = pd.read_csv('Beverage sales data.csv')\n",
    "data = data1.copy()"
   ]
  },
  {
   "cell_type": "code",
   "execution_count": 4,
   "metadata": {},
   "outputs": [
    {
     "name": "stdout",
     "output_type": "stream",
     "text": [
      "<class 'pandas.core.frame.DataFrame'>\n",
      "RangeIndex: 365 entries, 0 to 364\n",
      "Data columns (total 5 columns):\n",
      " #   Column             Non-Null Count  Dtype  \n",
      "---  ------             --------------  -----  \n",
      " 0   date               365 non-null    object \n",
      " 1   crates_sold        365 non-null    int64  \n",
      " 2   hours_of_daylight  365 non-null    float64\n",
      " 3   public_holiday     365 non-null    int64  \n",
      " 4   mean_temperature   365 non-null    float64\n",
      "dtypes: float64(2), int64(2), object(1)\n",
      "memory usage: 14.4+ KB\n"
     ]
    }
   ],
   "source": [
    "data.info()"
   ]
  },
  {
   "cell_type": "code",
   "execution_count": 5,
   "metadata": {},
   "outputs": [
    {
     "data": {
      "text/plain": [
       "(365, 5)"
      ]
     },
     "execution_count": 5,
     "metadata": {},
     "output_type": "execute_result"
    }
   ],
   "source": [
    "data.shape"
   ]
  },
  {
   "cell_type": "code",
   "execution_count": 6,
   "metadata": {},
   "outputs": [
    {
     "data": {
      "text/html": [
       "<div>\n",
       "<style scoped>\n",
       "    .dataframe tbody tr th:only-of-type {\n",
       "        vertical-align: middle;\n",
       "    }\n",
       "\n",
       "    .dataframe tbody tr th {\n",
       "        vertical-align: top;\n",
       "    }\n",
       "\n",
       "    .dataframe thead th {\n",
       "        text-align: right;\n",
       "    }\n",
       "</style>\n",
       "<table border=\"1\" class=\"dataframe\">\n",
       "  <thead>\n",
       "    <tr style=\"text-align: right;\">\n",
       "      <th></th>\n",
       "      <th>date</th>\n",
       "      <th>crates_sold</th>\n",
       "      <th>hours_of_daylight</th>\n",
       "      <th>public_holiday</th>\n",
       "      <th>mean_temperature</th>\n",
       "    </tr>\n",
       "  </thead>\n",
       "  <tbody>\n",
       "    <tr>\n",
       "      <th>0</th>\n",
       "      <td>2019-01-01</td>\n",
       "      <td>553</td>\n",
       "      <td>7.7</td>\n",
       "      <td>1</td>\n",
       "      <td>6.4</td>\n",
       "    </tr>\n",
       "    <tr>\n",
       "      <th>1</th>\n",
       "      <td>2019-01-02</td>\n",
       "      <td>479</td>\n",
       "      <td>7.8</td>\n",
       "      <td>0</td>\n",
       "      <td>1.6</td>\n",
       "    </tr>\n",
       "    <tr>\n",
       "      <th>2</th>\n",
       "      <td>2019-01-03</td>\n",
       "      <td>485</td>\n",
       "      <td>7.8</td>\n",
       "      <td>0</td>\n",
       "      <td>-0.8</td>\n",
       "    </tr>\n",
       "    <tr>\n",
       "      <th>3</th>\n",
       "      <td>2019-01-04</td>\n",
       "      <td>484</td>\n",
       "      <td>7.8</td>\n",
       "      <td>0</td>\n",
       "      <td>1.6</td>\n",
       "    </tr>\n",
       "    <tr>\n",
       "      <th>4</th>\n",
       "      <td>2019-01-05</td>\n",
       "      <td>512</td>\n",
       "      <td>7.8</td>\n",
       "      <td>0</td>\n",
       "      <td>5.5</td>\n",
       "    </tr>\n",
       "  </tbody>\n",
       "</table>\n",
       "</div>"
      ],
      "text/plain": [
       "         date  crates_sold  hours_of_daylight  public_holiday  \\\n",
       "0  2019-01-01          553                7.7               1   \n",
       "1  2019-01-02          479                7.8               0   \n",
       "2  2019-01-03          485                7.8               0   \n",
       "3  2019-01-04          484                7.8               0   \n",
       "4  2019-01-05          512                7.8               0   \n",
       "\n",
       "   mean_temperature  \n",
       "0               6.4  \n",
       "1               1.6  \n",
       "2              -0.8  \n",
       "3               1.6  \n",
       "4               5.5  "
      ]
     },
     "execution_count": 6,
     "metadata": {},
     "output_type": "execute_result"
    }
   ],
   "source": [
    "data.head()"
   ]
  },
  {
   "cell_type": "code",
   "execution_count": 7,
   "metadata": {},
   "outputs": [],
   "source": [
    "## convert date to datetime \n",
    "data['date'] =  pd.to_datetime(data['date'],format = '%Y-%m-%d')"
   ]
  },
  {
   "cell_type": "code",
   "execution_count": 8,
   "metadata": {},
   "outputs": [
    {
     "data": {
      "text/plain": [
       "(Timestamp('2019-01-01 00:00:00'), Timestamp('2019-12-31 00:00:00'))"
      ]
     },
     "execution_count": 8,
     "metadata": {},
     "output_type": "execute_result"
    }
   ],
   "source": [
    "### length of data: one year\n",
    "min(data.date),max(data.date)"
   ]
  },
  {
   "cell_type": "code",
   "execution_count": 9,
   "metadata": {},
   "outputs": [
    {
     "data": {
      "text/plain": [
       "<matplotlib.axes._subplots.AxesSubplot at 0x7fd263631e90>"
      ]
     },
     "execution_count": 9,
     "metadata": {},
     "output_type": "execute_result"
    },
    {
     "data": {
      "image/png": "[encoded data removed]",
      "text/plain": [
       "<Figure size 432x288 with 1 Axes>"
      ]
     },
     "metadata": {
      "needs_background": "light"
     },
     "output_type": "display_data"
    }
   ],
   "source": [
    "# plot sales \n",
    "sns.lineplot(x = data.date, y =data.crates_sold, data=data)"
   ]
  },
  {
   "cell_type": "code",
   "execution_count": 10,
   "metadata": {},
   "outputs": [
    {
     "data": {
      "image/png": "[encoded data removed]",
      "text/plain": [
       "<Figure size 576x288 with 1 Axes>"
      ]
     },
     "metadata": {
      "needs_background": "light"
     },
     "output_type": "display_data"
    }
   ],
   "source": [
    "#### analyse the correlation between beer sales and factors: daylight and tempreture\n",
    "corr_data =  data[['crates_sold', 'hours_of_daylight', 'mean_temperature']]\n",
    "corr_sales = corr_data.corr()['crates_sold'].abs()\n",
    "columns = corr_sales[corr_sales >.01].index\n",
    "corr_sales = corr_sales.filter(columns).sort_values()\n",
    "corr_sales =  pd.DataFrame(corr_sales)\n",
    "corr_sales = corr_sales.reset_index()\n",
    "corr_sales =  corr_sales.rename(columns={'index':'features','crates_sold':'corr'})\n",
    "\n",
    "## plot correlation\n",
    "ind = np.arange(corr_sales.shape[0])\n",
    "width = 0.2\n",
    "fig, ax = plt.subplots(figsize=(8,4))\n",
    "rects = ax.barh(ind, corr_sales['corr'].values, color='r')\n",
    "ax.set_yticks(ind)\n",
    "ax.set_yticklabels(corr_sales.features.values, rotation='horizontal')\n",
    "ax.set_xlabel(\"absolute corr\", fontsize = 10)\n",
    "ax.set_title(\"Correlations between features and corr_sales \", fontsize = 8)\n",
    "plt.show()"
   ]
  },
  {
   "cell_type": "code",
   "execution_count": 11,
   "metadata": {},
   "outputs": [
    {
     "data": {
      "image/png": "[encoded data removed]",
      "text/plain": [
       "<Figure size 648x360 with 2 Axes>"
      ]
     },
     "metadata": {
      "needs_background": "light"
     },
     "output_type": "display_data"
    }
   ],
   "source": [
    "f = plt.figure(figsize=(9, 5))\n",
    "plt.matshow(corr_data.corr(), fignum=f.number)\n",
    "plt.xticks(range(corr_data.select_dtypes(['number']).shape[1]), corr_data.select_dtypes(['number']).columns, fontsize=14, rotation=45)\n",
    "plt.yticks(range(corr_data.select_dtypes(['number']).shape[1]), corr_data.select_dtypes(['number']).columns, fontsize=14)\n",
    "cb = plt.colorbar()\n",
    "cb.ax.tick_params(labelsize=14)\n",
    "plt.title('Correlation Matrix', fontsize=16);"
   ]
  },
  {
   "cell_type": "code",
   "execution_count": 12,
   "metadata": {},
   "outputs": [
    {
     "data": {
      "text/html": [
       "<style  type=\"text/css\" >\n",
       "    #T_e3c188d4_52c7_11eb_b994_acde48001122row0_col0 {\n",
       "            background-color:  #b40426;\n",
       "            color:  #f1f1f1;\n",
       "        }    #T_e3c188d4_52c7_11eb_b994_acde48001122row0_col1 {\n",
       "            background-color:  #3b4cc0;\n",
       "            color:  #f1f1f1;\n",
       "        }    #T_e3c188d4_52c7_11eb_b994_acde48001122row0_col2 {\n",
       "            background-color:  #f1cdba;\n",
       "            color:  #000000;\n",
       "        }    #T_e3c188d4_52c7_11eb_b994_acde48001122row1_col0 {\n",
       "            background-color:  #3b4cc0;\n",
       "            color:  #f1f1f1;\n",
       "        }    #T_e3c188d4_52c7_11eb_b994_acde48001122row1_col1 {\n",
       "            background-color:  #b40426;\n",
       "            color:  #f1f1f1;\n",
       "        }    #T_e3c188d4_52c7_11eb_b994_acde48001122row1_col2 {\n",
       "            background-color:  #3b4cc0;\n",
       "            color:  #f1f1f1;\n",
       "        }    #T_e3c188d4_52c7_11eb_b994_acde48001122row2_col0 {\n",
       "            background-color:  #f7a688;\n",
       "            color:  #000000;\n",
       "        }    #T_e3c188d4_52c7_11eb_b994_acde48001122row2_col1 {\n",
       "            background-color:  #9fbfff;\n",
       "            color:  #000000;\n",
       "        }    #T_e3c188d4_52c7_11eb_b994_acde48001122row2_col2 {\n",
       "            background-color:  #b40426;\n",
       "            color:  #f1f1f1;\n",
       "        }</style><table id=\"T_e3c188d4_52c7_11eb_b994_acde48001122\" ><thead>    <tr>        <th class=\"blank level0\" ></th>        <th class=\"col_heading level0 col0\" >crates_sold</th>        <th class=\"col_heading level0 col1\" >hours_of_daylight</th>        <th class=\"col_heading level0 col2\" >mean_temperature</th>    </tr></thead><tbody>\n",
       "                <tr>\n",
       "                        <th id=\"T_e3c188d4_52c7_11eb_b994_acde48001122level0_row0\" class=\"row_heading level0 row0\" >crates_sold</th>\n",
       "                        <td id=\"T_e3c188d4_52c7_11eb_b994_acde48001122row0_col0\" class=\"data row0 col0\" >1.000000</td>\n",
       "                        <td id=\"T_e3c188d4_52c7_11eb_b994_acde48001122row0_col1\" class=\"data row0 col1\" >0.714481</td>\n",
       "                        <td id=\"T_e3c188d4_52c7_11eb_b994_acde48001122row0_col2\" class=\"data row0 col2\" >0.918799</td>\n",
       "            </tr>\n",
       "            <tr>\n",
       "                        <th id=\"T_e3c188d4_52c7_11eb_b994_acde48001122level0_row1\" class=\"row_heading level0 row1\" >hours_of_daylight</th>\n",
       "                        <td id=\"T_e3c188d4_52c7_11eb_b994_acde48001122row1_col0\" class=\"data row1 col0\" >0.714481</td>\n",
       "                        <td id=\"T_e3c188d4_52c7_11eb_b994_acde48001122row1_col1\" class=\"data row1 col1\" >1.000000</td>\n",
       "                        <td id=\"T_e3c188d4_52c7_11eb_b994_acde48001122row1_col2\" class=\"data row1 col2\" >0.801161</td>\n",
       "            </tr>\n",
       "            <tr>\n",
       "                        <th id=\"T_e3c188d4_52c7_11eb_b994_acde48001122level0_row2\" class=\"row_heading level0 row2\" >mean_temperature</th>\n",
       "                        <td id=\"T_e3c188d4_52c7_11eb_b994_acde48001122row2_col0\" class=\"data row2 col0\" >0.918799</td>\n",
       "                        <td id=\"T_e3c188d4_52c7_11eb_b994_acde48001122row2_col1\" class=\"data row2 col1\" >0.801161</td>\n",
       "                        <td id=\"T_e3c188d4_52c7_11eb_b994_acde48001122row2_col2\" class=\"data row2 col2\" >1.000000</td>\n",
       "            </tr>\n",
       "    </tbody></table>"
      ],
      "text/plain": [
       "<pandas.io.formats.style.Styler at 0x7fd2654af190>"
      ]
     },
     "execution_count": 12,
     "metadata": {},
     "output_type": "execute_result"
    }
   ],
   "source": [
    "corr = corr_data.corr()\n",
    "corr.style.background_gradient(cmap='coolwarm')"
   ]
  },
  {
   "cell_type": "markdown",
   "metadata": {},
   "source": [
    "* Analyzing the correlation matrix it is observed that hours of daylight and average temprature has very high correlation. It means both the variables are giving similar information which is making sense \n",
    "* So it would be wise to take out one of the variable while builing a regression model to get rid of multicollinearity"
   ]
  },
  {
   "cell_type": "code",
   "execution_count": 13,
   "metadata": {},
   "outputs": [
    {
     "name": "stderr",
     "output_type": "stream",
     "text": [
      "/Users/vinaykumar/opt/anaconda3/lib/python3.7/site-packages/seaborn/categorical.py:3669: UserWarning: The `factorplot` function has been renamed to `catplot`. The original name will be removed in a future release. Please update your code. Note that the default `kind` in `factorplot` (`'point'`) has changed `'strip'` in `catplot`.\n",
      "  warnings.warn(msg)\n"
     ]
    },
    {
     "data": {
      "image/png": "[encoded data removed]",
      "text/plain": [
       "<Figure size 360x360 with 1 Axes>"
      ]
     },
     "metadata": {
      "needs_background": "light"
     },
     "output_type": "display_data"
    }
   ],
   "source": [
    "### visualize the impact of holiday on sales\n",
    "sns.factorplot(data= data, x= 'public_holiday', y= 'crates_sold');"
   ]
  },
  {
   "cell_type": "markdown",
   "metadata": {},
   "source": [
    "* As expected beer sales are higher on holidays as compared to regular days"
   ]
  },
  {
   "cell_type": "code",
   "execution_count": 14,
   "metadata": {},
   "outputs": [
    {
     "data": {
      "image/png": "[encoded data removed]",
      "text/plain": [
       "<Figure size 864x288 with 3 Axes>"
      ]
     },
     "metadata": {
      "needs_background": "light"
     },
     "output_type": "display_data"
    }
   ],
   "source": [
    "### visualise the relation between sales and factors\n",
    "g = sns.PairGrid(data, y_vars=[\"crates_sold\"], x_vars=[\"public_holiday\",'mean_temperature','hours_of_daylight'], height=4)\n",
    "g.map(sns.regplot, color=\".3\");"
   ]
  },
  {
   "cell_type": "markdown",
   "metadata": {},
   "source": [
    "* It is observed that public holdays has higher sales compared to non holidays.\n",
    "* Beer sales are going high as average day temprature going high.\n",
    "* Same goes fo hours of day light which is obvious and resonating the information observed in sales vs average temprature."
   ]
  },
  {
   "cell_type": "code",
   "execution_count": 15,
   "metadata": {},
   "outputs": [
    {
     "data": {
      "image/png": "[encoded data removed]",
      "text/plain": [
       "<Figure size 216x216 with 1 Axes>"
      ]
     },
     "metadata": {
      "needs_background": "light"
     },
     "output_type": "display_data"
    }
   ],
   "source": [
    "# visualise the beer sales over months\n",
    "\n",
    "data['Month'] =  data.date.dt.month\n",
    "g = sns.FacetGrid(data,height=3, ylim=(0, 1000))\n",
    "g.map(sns.pointplot, \"Month\", \"crates_sold\", color=\".3\", ci=None, order = [1,2,3,4,5,6,7,8,9,10,11,12]);"
   ]
  },
  {
   "cell_type": "markdown",
   "metadata": {},
   "source": [
    "* Holiday day's have more beer sales compared to regular days\n",
    "* bear sales are more during summer season\n",
    "* sales has positive correlation between day_hours and mean temperature"
   ]
  },
  {
   "cell_type": "code",
   "execution_count": 16,
   "metadata": {},
   "outputs": [
    {
     "data": {
      "text/plain": [
       "<seaborn.axisgrid.FacetGrid at 0x7fd265f342d0>"
      ]
     },
     "execution_count": 16,
     "metadata": {},
     "output_type": "execute_result"
    },
    {
     "data": {
      "image/png": "[encoded data removed]",
      "text/plain": [
       "<Figure size 489.6x244.8 with 2 Axes>"
      ]
     },
     "metadata": {
      "needs_background": "light"
     },
     "output_type": "display_data"
    }
   ],
   "source": [
    "## distribution of sales:  holiday  vs non holidays\n",
    "g = sns.FacetGrid(data, row=\"public_holiday\",\n",
    "                  height=1.7, aspect=4,)\n",
    "g.map(sns.distplot, \"crates_sold\", hist=False, rug=True)"
   ]
  },
  {
   "cell_type": "markdown",
   "metadata": {},
   "source": [
    "## Lets fit a statsmodel regression model \n",
    "###### on 11 months training data and keep 1 month as test data"
   ]
  },
  {
   "cell_type": "code",
   "execution_count": 17,
   "metadata": {},
   "outputs": [
    {
     "name": "stdout",
     "output_type": "stream",
     "text": [
      "                            OLS Regression Results                            \n",
      "==============================================================================\n",
      "Dep. Variable:            crates_sold   R-squared:                       0.883\n",
      "Model:                            OLS   Adj. R-squared:                  0.881\n",
      "Method:                 Least Squares   F-statistic:                     826.6\n",
      "Date:                Sat, 09 Jan 2021   Prob (F-statistic):          4.55e-153\n",
      "Time:                        23:13:25   Log-Likelihood:                -1613.1\n",
      "No. Observations:                 334   AIC:                             3234.\n",
      "Df Residuals:                     330   BIC:                             3249.\n",
      "Df Model:                           3                                         \n",
      "Covariance Type:            nonrobust                                         \n",
      "=====================================================================================\n",
      "                        coef    std err          t      P>|t|      [0.025      0.975]\n",
      "-------------------------------------------------------------------------------------\n",
      "const               481.1565      8.824     54.531      0.000     463.799     498.514\n",
      "hours_of_daylight     0.8182      0.923      0.886      0.376      -0.998       2.635\n",
      "public_holiday       55.9698     10.913      5.129      0.000      34.503      77.437\n",
      "mean_temperature     11.1388      0.374     29.814      0.000      10.404      11.874\n",
      "==============================================================================\n",
      "Omnibus:                        2.669   Durbin-Watson:                   1.369\n",
      "Prob(Omnibus):                  0.263   Jarque-Bera (JB):                2.493\n",
      "Skew:                           0.210   Prob(JB):                        0.288\n",
      "Kurtosis:                       3.059   Cond. No.                         123.\n",
      "==============================================================================\n",
      "\n",
      "Warnings:\n",
      "[1] Standard Errors assume that the covariance matrix of the errors is correctly specified.\n"
     ]
    }
   ],
   "source": [
    "import statsmodels.api as sm\n",
    "\n",
    "train = data[data.date <= '2019-11-30']\n",
    "test = data[data.date > '2019-11-30']\n",
    "\n",
    "X = train[['hours_of_daylight', 'public_holiday','mean_temperature']] # here we have 2 variables for the multiple linear regression. If you just want to use one variable for simple linear regression, then use X = df['Interest_Rate'] for example\n",
    "Y = train['crates_sold']\n",
    "\n",
    "X = sm.add_constant(X) # adding a constant\n",
    "\n",
    "model = sm.OLS(Y, X).fit()\n",
    "predictions = model.predict(X) \n",
    "\n",
    "print_model = model.summary()\n",
    "print(print_model)"
   ]
  },
  {
   "cell_type": "code",
   "execution_count": 18,
   "metadata": {},
   "outputs": [],
   "source": [
    "### Fit regression model without 'hours_of_daylight' model"
   ]
  },
  {
   "cell_type": "code",
   "execution_count": 19,
   "metadata": {},
   "outputs": [
    {
     "name": "stdout",
     "output_type": "stream",
     "text": [
      "                            OLS Regression Results                            \n",
      "==============================================================================\n",
      "Dep. Variable:            crates_sold   R-squared:                       0.882\n",
      "Model:                            OLS   Adj. R-squared:                  0.882\n",
      "Method:                 Least Squares   F-statistic:                     1240.\n",
      "Date:                Sat, 09 Jan 2021   Prob (F-statistic):          1.69e-154\n",
      "Time:                        23:13:25   Log-Likelihood:                -1613.5\n",
      "No. Observations:                 334   AIC:                             3233.\n",
      "Df Residuals:                     331   BIC:                             3244.\n",
      "Df Model:                           2                                         \n",
      "Covariance Type:            nonrobust                                         \n",
      "====================================================================================\n",
      "                       coef    std err          t      P>|t|      [0.025      0.975]\n",
      "------------------------------------------------------------------------------------\n",
      "const              488.4354      3.217    151.836      0.000     482.107     494.763\n",
      "public_holiday      56.3617     10.900      5.171      0.000      34.919      77.804\n",
      "mean_temperature    11.3992      0.230     49.458      0.000      10.946      11.853\n",
      "==============================================================================\n",
      "Omnibus:                        2.521   Durbin-Watson:                   1.370\n",
      "Prob(Omnibus):                  0.284   Jarque-Bera (JB):                2.308\n",
      "Skew:                           0.199   Prob(JB):                        0.315\n",
      "Kurtosis:                       3.089   Cond. No.                         91.3\n",
      "==============================================================================\n",
      "\n",
      "Warnings:\n",
      "[1] Standard Errors assume that the covariance matrix of the errors is correctly specified.\n"
     ]
    }
   ],
   "source": [
    "import statsmodels.api as sm\n",
    "\n",
    "train = data[data.date <= '2019-11-30']\n",
    "test = data[data.date > '2019-11-30']\n",
    "\n",
    "X = train[['public_holiday','mean_temperature']] # here we have 2 variables for the multiple linear regression. If you just want to use one variable for simple linear regression, then use X = df['Interest_Rate'] for example\n",
    "Y = train['crates_sold']\n",
    "\n",
    "X = sm.add_constant(X) # adding a constant\n",
    "\n",
    "model = sm.OLS(Y, X).fit()\n",
    "predictions = model.predict(X) \n",
    "\n",
    "print_model = model.summary()\n",
    "print(print_model)"
   ]
  },
  {
   "cell_type": "markdown",
   "metadata": {},
   "source": [
    "1. First most important point we can observe is that model **without hours_of_daylight(adj.R Square .88)** is as good as model **with hours_of_daylight variable(adj.R Square .88).** We can select model without hours_of_daylight and put into production \n",
    "2. Statsmodel provide good insights into the model in terms of variable significance for each variable\n",
    "3. As per model output, all features and constant term are significant at 5% level of significance except hours of daylight which is significant 10% level of significance.\n",
    "4. Each parameter coefficinet std error is also low which is a good indicator of model accuracy vis-a-vis relationship  between sales and factors"
   ]
  },
  {
   "cell_type": "markdown",
   "metadata": {},
   "source": [
    "## Lets fit  a sklearn regression model using"
   ]
  },
  {
   "cell_type": "code",
   "execution_count": 20,
   "metadata": {},
   "outputs": [
    {
     "data": {
      "text/plain": [
       "(365, 6)"
      ]
     },
     "execution_count": 20,
     "metadata": {},
     "output_type": "execute_result"
    }
   ],
   "source": [
    "### fit linear model to analyse the impact of factors on beer sales\n",
    "from sklearn import linear_model\n",
    "from sklearn.model_selection import train_test_split\n",
    "from sklearn.metrics import mean_squared_error, mean_absolute_error\n",
    "\n",
    "X =  data[['hours_of_daylight', 'public_holiday',\n",
    "       'mean_temperature']]\n",
    "y  = data['crates_sold']\n",
    "\n",
    "### drop duplicates and sort data with data\n",
    "data = data.drop_duplicates(keep = 'first')\n",
    "data = data.sort_values(by= 'date')\n",
    "data.shape"
   ]
  },
  {
   "cell_type": "code",
   "execution_count": 21,
   "metadata": {},
   "outputs": [],
   "source": [
    "### train and test data\n",
    "train = data[data.date <= '2019-11-30']\n",
    "test = data[data.date > '2019-11-30']\n",
    "\n",
    "X_train =  train[['public_holiday','mean_temperature']]\n",
    "\n",
    "y_train =  train[['crates_sold']]\n",
    "\n",
    "X_test = test[['public_holiday','mean_temperature']]\n",
    "\n",
    "y_test = test[['crates_sold']]"
   ]
  },
  {
   "cell_type": "code",
   "execution_count": 22,
   "metadata": {},
   "outputs": [
    {
     "data": {
      "text/plain": [
       "LinearRegression(copy_X=True, fit_intercept=True, n_jobs=None, normalize=False)"
      ]
     },
     "execution_count": 22,
     "metadata": {},
     "output_type": "execute_result"
    }
   ],
   "source": [
    "## fit the model\n",
    "regr =  linear_model.LinearRegression()\n",
    "regr.fit(X_train, y_train)\n",
    "regr"
   ]
  },
  {
   "cell_type": "code",
   "execution_count": 23,
   "metadata": {},
   "outputs": [
    {
     "data": {
      "text/plain": [
       "(array([488.43538773]), array([[56.36169846, 11.39923692]]))"
      ]
     },
     "execution_count": 23,
     "metadata": {},
     "output_type": "execute_result"
    }
   ],
   "source": [
    "## intercept and Parameter estimates\n",
    "regr.intercept_ ,regr.coef_"
   ]
  },
  {
   "cell_type": "code",
   "execution_count": 24,
   "metadata": {},
   "outputs": [],
   "source": [
    "## predict the test set\n",
    "prediction =  regr.predict(X_test)"
   ]
  },
  {
   "cell_type": "code",
   "execution_count": 25,
   "metadata": {},
   "outputs": [
    {
     "data": {
      "text/html": [
       "<div>\n",
       "<style scoped>\n",
       "    .dataframe tbody tr th:only-of-type {\n",
       "        vertical-align: middle;\n",
       "    }\n",
       "\n",
       "    .dataframe tbody tr th {\n",
       "        vertical-align: top;\n",
       "    }\n",
       "\n",
       "    .dataframe thead th {\n",
       "        text-align: right;\n",
       "    }\n",
       "</style>\n",
       "<table border=\"1\" class=\"dataframe\">\n",
       "  <thead>\n",
       "    <tr style=\"text-align: right;\">\n",
       "      <th></th>\n",
       "      <th>Coefficient</th>\n",
       "    </tr>\n",
       "  </thead>\n",
       "  <tbody>\n",
       "    <tr>\n",
       "      <th>public_holiday</th>\n",
       "      <td>56.361698</td>\n",
       "    </tr>\n",
       "    <tr>\n",
       "      <th>mean_temperature</th>\n",
       "      <td>11.399237</td>\n",
       "    </tr>\n",
       "  </tbody>\n",
       "</table>\n",
       "</div>"
      ],
      "text/plain": [
       "                  Coefficient\n",
       "public_holiday      56.361698\n",
       "mean_temperature    11.399237"
      ]
     },
     "execution_count": 25,
     "metadata": {},
     "output_type": "execute_result"
    }
   ],
   "source": [
    "## coefficients of model parameters\n",
    "coeff_df = pd.DataFrame(regr.coef_, columns=X_train.columns).transpose()\n",
    "coeff_df = coeff_df.rename(columns={0:'Coefficient'})\n",
    "coeff_df"
   ]
  },
  {
   "cell_type": "code",
   "execution_count": 26,
   "metadata": {},
   "outputs": [
    {
     "name": "stdout",
     "output_type": "stream",
     "text": [
      "Mean Absolute Error: 48.47631312475253\n",
      "Mean Squared Error: 3042.0369023101525\n",
      "Root Mean Squared Error: 55.154663468379105\n"
     ]
    }
   ],
   "source": [
    "## model accuracy metrics\n",
    "print('Mean Absolute Error:', mean_absolute_error(y_test, regr.predict(X_test)))  \n",
    "print('Mean Squared Error:', mean_squared_error(y_test, regr.predict(X_test)))  \n",
    "print('Root Mean Squared Error:', np.sqrt(mean_squared_error(y_test, regr.predict(X_test))))"
   ]
  },
  {
   "cell_type": "markdown",
   "metadata": {},
   "source": [
    "### conclusion\n",
    "Based on the correlation results and regression models of sklearn and statsmodel it can be concluded that there is significant quantitative relationship between factors average temperature, public holiday and beer sales"
   ]
  },
  {
   "cell_type": "markdown",
   "metadata": {},
   "source": [
    "## Lets  be little imaginative, find and quantitatively assess other factors affecting beer sales, i.e. factors that can possibly explain variance in sales of beer"
   ]
  },
  {
   "cell_type": "markdown",
   "metadata": {},
   "source": [
    "* Day of month could be important feature to give insight on different sales pattern for different days of month\n",
    "* Day of year could be important feature to give insight on different sales pattern for different days of year\n",
    "* Weekday could be important feature to give insight on different sales pattern for different weekdays\n",
    "* Month of year could be important feature to give insight on different sales pattern for different months"
   ]
  },
  {
   "cell_type": "code",
   "execution_count": 27,
   "metadata": {},
   "outputs": [],
   "source": [
    "data['Day'] = data['date'].dt.day"
   ]
  },
  {
   "cell_type": "code",
   "execution_count": 28,
   "metadata": {},
   "outputs": [],
   "source": [
    "data['DayofYear'] = data['date'].dt.dayofyear"
   ]
  },
  {
   "cell_type": "code",
   "execution_count": 29,
   "metadata": {},
   "outputs": [],
   "source": [
    "data['Weekday'] = data['date'].dt.dayofweek"
   ]
  },
  {
   "cell_type": "code",
   "execution_count": 30,
   "metadata": {},
   "outputs": [],
   "source": [
    "data['Month'] = data['date'].dt.month"
   ]
  },
  {
   "cell_type": "markdown",
   "metadata": {},
   "source": [
    "* Previous days sales known as lags, can impact the sales on current days sales. Lets create lag 1 to 7, 14, 21 and 28 to get information into model from previous days sales."
   ]
  },
  {
   "cell_type": "code",
   "execution_count": 31,
   "metadata": {},
   "outputs": [],
   "source": [
    "## create feature lags\n",
    "data['lag1'] = data['crates_sold'].shift(1)\n",
    "data['lag2'] = data['crates_sold'].shift(2)\n",
    "data['lag3'] = data['crates_sold'].shift(3)\n",
    "data['lag4'] = data['crates_sold'].shift(4)\n",
    "data['lag5'] = data['crates_sold'].shift(5)\n",
    "data['lag6'] = data['crates_sold'].shift(6)"
   ]
  },
  {
   "cell_type": "code",
   "execution_count": 32,
   "metadata": {},
   "outputs": [],
   "source": [
    "data['lag7'] = data['crates_sold'].shift(7)\n",
    "data['lag14'] = data['crates_sold'].shift(14)\n",
    "data['lag21'] = data['crates_sold'].shift(21)\n",
    "data['lag28'] = data['crates_sold'].shift(28)"
   ]
  },
  {
   "cell_type": "markdown",
   "metadata": {},
   "source": [
    "* Difference between two lags of same day could also be significant to the model"
   ]
  },
  {
   "cell_type": "code",
   "execution_count": 33,
   "metadata": {},
   "outputs": [],
   "source": [
    "data['lag7_14'] = data['lag14'] - data['lag7']"
   ]
  },
  {
   "cell_type": "markdown",
   "metadata": {},
   "source": [
    "* create dow moving average - 2,3 and 4 days "
   ]
  },
  {
   "cell_type": "code",
   "execution_count": 34,
   "metadata": {},
   "outputs": [],
   "source": [
    "### create dow moving average\n",
    "data['ma2'] = data.groupby('Weekday')['crates_sold'].transform(lambda x: x.rolling(window=2).mean().shift(1))\n",
    "data['ma3'] = data.groupby('Weekday')['crates_sold'].transform(lambda x: x.rolling(window=3).mean().shift(1))\n",
    "data['ma4'] = data.groupby('Weekday')['crates_sold'].transform(lambda x: x.rolling(window=4).mean().shift(1))"
   ]
  },
  {
   "cell_type": "code",
   "execution_count": 35,
   "metadata": {},
   "outputs": [],
   "source": [
    "#### analyse the correlation between beer sales and factors\n",
    "corr_data =  data[['crates_sold', 'public_holiday',\n",
    "       'mean_temperature', 'Day', 'DayofYear', 'Weekday', 'Month', 'lag1',\n",
    "       'lag2', 'lag3', 'lag4', 'lag5', 'lag6', 'lag7', 'lag14', 'lag21',\n",
    "       'lag28', 'ma2', 'ma3', 'ma4']]\n",
    "corr_sales = corr_data.corr()['crates_sold'].abs()\n",
    "columns = corr_sales[corr_sales >.01].index\n",
    "corr_sales = corr_sales.filter(columns).sort_values()\n",
    "corr_sales =  pd.DataFrame(corr_sales)\n",
    "corr_sales = corr_sales.reset_index()\n",
    "corr_sales =  corr_sales.rename(columns={'index':'features','crates_sold':'corr'})"
   ]
  },
  {
   "cell_type": "code",
   "execution_count": 36,
   "metadata": {},
   "outputs": [
    {
     "data": {
      "image/png": "[encoded data removed]",
      "text/plain": [
       "<Figure size 576x576 with 1 Axes>"
      ]
     },
     "metadata": {
      "needs_background": "light"
     },
     "output_type": "display_data"
    }
   ],
   "source": [
    "## plot correlation\n",
    "ind = np.arange(corr_sales.shape[0])\n",
    "width = 0.9\n",
    "fig, ax = plt.subplots(figsize=(8,8))\n",
    "rects = ax.barh(ind, corr_sales['corr'].values, color='r')\n",
    "ax.set_yticks(ind)\n",
    "ax.set_yticklabels(corr_sales.features.values, rotation='horizontal')\n",
    "ax.set_xlabel(\"absolute corr\", fontsize = 10)\n",
    "ax.set_title(\"Correlations between features and corr_sales \", fontsize = 8)\n",
    "plt.show()"
   ]
  },
  {
   "cell_type": "code",
   "execution_count": 49,
   "metadata": {},
   "outputs": [],
   "source": [
    "## make a copy of data\n",
    "data = data.fillna(0).copy()"
   ]
  },
  {
   "cell_type": "code",
   "execution_count": 50,
   "metadata": {},
   "outputs": [],
   "source": [
    "### split the data into train and test to train model with additional features\n",
    "train = data[data.date <= '2019-11-30']\n",
    "test = data[data.date > '2019-11-30']\n",
    "\n",
    "X_train =  train[['public_holiday',\n",
    "       'mean_temperature', 'Month', 'Day', 'DayofYear', 'Weekday', 'lag1',\n",
    "       'lag2', 'lag3', 'lag4', 'lag5', 'lag6', 'lag7', 'lag14', 'lag7_14',\n",
    "       'lag21', 'lag28', 'ma2', 'ma3', 'ma4']]\n",
    "\n",
    "y_train =  train[['crates_sold']]\n",
    "\n",
    "X_test = test[[ 'public_holiday',\n",
    "       'mean_temperature', 'Month', 'Day', 'DayofYear', 'Weekday', 'lag1',\n",
    "       'lag2', 'lag3', 'lag4', 'lag5', 'lag6', 'lag7', 'lag14', 'lag7_14',\n",
    "       'lag21', 'lag28', 'ma2', 'ma3', 'ma4']]\n",
    "\n",
    "y_test = test[['crates_sold']]"
   ]
  },
  {
   "cell_type": "code",
   "execution_count": 51,
   "metadata": {},
   "outputs": [
    {
     "data": {
      "text/plain": [
       "LinearRegression(copy_X=True, fit_intercept=True, n_jobs=None, normalize=False)"
      ]
     },
     "execution_count": 51,
     "metadata": {},
     "output_type": "execute_result"
    }
   ],
   "source": [
    "## fit the model\n",
    "model =  linear_model.LinearRegression()\n",
    "model.fit(X_train, y_train)"
   ]
  },
  {
   "cell_type": "code",
   "execution_count": 52,
   "metadata": {},
   "outputs": [
    {
     "data": {
      "text/plain": [
       "(array([155.52259514]),\n",
       " array([[ 6.14272977e+01,  9.68217001e+00,  2.95383651e+02,\n",
       "          9.58365210e+00, -9.64863195e+00,  2.36944369e+00,\n",
       "          8.14852165e-02, -5.18262207e-02, -4.26555508e-02,\n",
       "         -3.63119159e-02, -4.40741412e-02,  4.65766299e-02,\n",
       "          4.95727847e-02,  1.08610687e-02, -6.12723805e-03,\n",
       "          3.64739944e-02, -6.80198205e-03,  1.39246882e-02,\n",
       "         -5.70672078e-02,  5.84549835e-02]]))"
      ]
     },
     "execution_count": 52,
     "metadata": {},
     "output_type": "execute_result"
    }
   ],
   "source": [
    "## model parameter estimates\n",
    "model.intercept_ ,model.coef_"
   ]
  },
  {
   "cell_type": "code",
   "execution_count": 53,
   "metadata": {},
   "outputs": [
    {
     "data": {
      "text/html": [
       "<div>\n",
       "<style scoped>\n",
       "    .dataframe tbody tr th:only-of-type {\n",
       "        vertical-align: middle;\n",
       "    }\n",
       "\n",
       "    .dataframe tbody tr th {\n",
       "        vertical-align: top;\n",
       "    }\n",
       "\n",
       "    .dataframe thead th {\n",
       "        text-align: right;\n",
       "    }\n",
       "</style>\n",
       "<table border=\"1\" class=\"dataframe\">\n",
       "  <thead>\n",
       "    <tr style=\"text-align: right;\">\n",
       "      <th></th>\n",
       "      <th>Coefficient</th>\n",
       "    </tr>\n",
       "  </thead>\n",
       "  <tbody>\n",
       "    <tr>\n",
       "      <th>public_holiday</th>\n",
       "      <td>61.427298</td>\n",
       "    </tr>\n",
       "    <tr>\n",
       "      <th>mean_temperature</th>\n",
       "      <td>9.682170</td>\n",
       "    </tr>\n",
       "    <tr>\n",
       "      <th>Month</th>\n",
       "      <td>295.383651</td>\n",
       "    </tr>\n",
       "    <tr>\n",
       "      <th>Day</th>\n",
       "      <td>9.583652</td>\n",
       "    </tr>\n",
       "    <tr>\n",
       "      <th>DayofYear</th>\n",
       "      <td>-9.648632</td>\n",
       "    </tr>\n",
       "    <tr>\n",
       "      <th>Weekday</th>\n",
       "      <td>2.369444</td>\n",
       "    </tr>\n",
       "    <tr>\n",
       "      <th>lag1</th>\n",
       "      <td>0.081485</td>\n",
       "    </tr>\n",
       "    <tr>\n",
       "      <th>lag2</th>\n",
       "      <td>-0.051826</td>\n",
       "    </tr>\n",
       "    <tr>\n",
       "      <th>lag3</th>\n",
       "      <td>-0.042656</td>\n",
       "    </tr>\n",
       "    <tr>\n",
       "      <th>lag4</th>\n",
       "      <td>-0.036312</td>\n",
       "    </tr>\n",
       "    <tr>\n",
       "      <th>lag5</th>\n",
       "      <td>-0.044074</td>\n",
       "    </tr>\n",
       "    <tr>\n",
       "      <th>lag6</th>\n",
       "      <td>0.046577</td>\n",
       "    </tr>\n",
       "    <tr>\n",
       "      <th>lag7</th>\n",
       "      <td>0.049573</td>\n",
       "    </tr>\n",
       "    <tr>\n",
       "      <th>lag14</th>\n",
       "      <td>0.010861</td>\n",
       "    </tr>\n",
       "    <tr>\n",
       "      <th>lag7_14</th>\n",
       "      <td>-0.006127</td>\n",
       "    </tr>\n",
       "    <tr>\n",
       "      <th>lag21</th>\n",
       "      <td>0.036474</td>\n",
       "    </tr>\n",
       "    <tr>\n",
       "      <th>lag28</th>\n",
       "      <td>-0.006802</td>\n",
       "    </tr>\n",
       "    <tr>\n",
       "      <th>ma2</th>\n",
       "      <td>0.013925</td>\n",
       "    </tr>\n",
       "    <tr>\n",
       "      <th>ma3</th>\n",
       "      <td>-0.057067</td>\n",
       "    </tr>\n",
       "    <tr>\n",
       "      <th>ma4</th>\n",
       "      <td>0.058455</td>\n",
       "    </tr>\n",
       "  </tbody>\n",
       "</table>\n",
       "</div>"
      ],
      "text/plain": [
       "                  Coefficient\n",
       "public_holiday      61.427298\n",
       "mean_temperature     9.682170\n",
       "Month              295.383651\n",
       "Day                  9.583652\n",
       "DayofYear           -9.648632\n",
       "Weekday              2.369444\n",
       "lag1                 0.081485\n",
       "lag2                -0.051826\n",
       "lag3                -0.042656\n",
       "lag4                -0.036312\n",
       "lag5                -0.044074\n",
       "lag6                 0.046577\n",
       "lag7                 0.049573\n",
       "lag14                0.010861\n",
       "lag7_14             -0.006127\n",
       "lag21                0.036474\n",
       "lag28               -0.006802\n",
       "ma2                  0.013925\n",
       "ma3                 -0.057067\n",
       "ma4                  0.058455"
      ]
     },
     "execution_count": 53,
     "metadata": {},
     "output_type": "execute_result"
    }
   ],
   "source": [
    "# print model coeffients\n",
    "coeff_df = pd.DataFrame(model.coef_, columns=X_train.columns).transpose()\n",
    "coeff_df = coeff_df.rename(columns={0:'Coefficient'})\n",
    "coeff_df"
   ]
  },
  {
   "cell_type": "code",
   "execution_count": 54,
   "metadata": {},
   "outputs": [
    {
     "data": {
      "text/html": [
       "<div>\n",
       "<style scoped>\n",
       "    .dataframe tbody tr th:only-of-type {\n",
       "        vertical-align: middle;\n",
       "    }\n",
       "\n",
       "    .dataframe tbody tr th {\n",
       "        vertical-align: top;\n",
       "    }\n",
       "\n",
       "    .dataframe thead th {\n",
       "        text-align: right;\n",
       "    }\n",
       "</style>\n",
       "<table border=\"1\" class=\"dataframe\">\n",
       "  <thead>\n",
       "    <tr style=\"text-align: right;\">\n",
       "      <th></th>\n",
       "      <th>actual</th>\n",
       "      <th>y_pred</th>\n",
       "    </tr>\n",
       "  </thead>\n",
       "  <tbody>\n",
       "    <tr>\n",
       "      <th>0</th>\n",
       "      <td>562</td>\n",
       "      <td>536.645984</td>\n",
       "    </tr>\n",
       "    <tr>\n",
       "      <th>1</th>\n",
       "      <td>564</td>\n",
       "      <td>535.134499</td>\n",
       "    </tr>\n",
       "    <tr>\n",
       "      <th>2</th>\n",
       "      <td>537</td>\n",
       "      <td>532.873111</td>\n",
       "    </tr>\n",
       "    <tr>\n",
       "      <th>3</th>\n",
       "      <td>580</td>\n",
       "      <td>552.842363</td>\n",
       "    </tr>\n",
       "    <tr>\n",
       "      <th>4</th>\n",
       "      <td>534</td>\n",
       "      <td>533.586314</td>\n",
       "    </tr>\n",
       "  </tbody>\n",
       "</table>\n",
       "</div>"
      ],
      "text/plain": [
       "   actual      y_pred\n",
       "0     562  536.645984\n",
       "1     564  535.134499\n",
       "2     537  532.873111\n",
       "3     580  552.842363\n",
       "4     534  533.586314"
      ]
     },
     "execution_count": 54,
     "metadata": {},
     "output_type": "execute_result"
    }
   ],
   "source": [
    "## concate actual and predicted sales\n",
    "df = pd.concat([y_test.reset_index(drop=True).rename(columns={'crates_sold':'actual'}), pd.DataFrame(model.predict(X_test)).rename(columns={0:'y_pred'})], axis = 1)\n",
    "df.head()"
   ]
  },
  {
   "cell_type": "code",
   "execution_count": 55,
   "metadata": {
    "scrolled": true
   },
   "outputs": [
    {
     "data": {
      "text/plain": [
       "<matplotlib.axes._subplots.AxesSubplot at 0x7fd267507610>"
      ]
     },
     "execution_count": 55,
     "metadata": {},
     "output_type": "execute_result"
    },
    {
     "data": {
      "image/png": "[encoded data removed]",
      "text/plain": [
       "<Figure size 1008x576 with 1 Axes>"
      ]
     },
     "metadata": {
      "needs_background": "light"
     },
     "output_type": "display_data"
    }
   ],
   "source": [
    "##plot actual vs predicted\n",
    "df1 = df.copy()\n",
    "df1.plot(kind='bar',figsize=(14,8))"
   ]
  },
  {
   "cell_type": "markdown",
   "metadata": {},
   "source": [
    "## Bonus: lets also fit XGboost model regressor to get some more insights about important features"
   ]
  },
  {
   "cell_type": "code",
   "execution_count": 56,
   "metadata": {},
   "outputs": [],
   "source": [
    "###### import Xgboost library and create model\n",
    "import xgboost as xgb\n",
    "mxgb = xgb.XGBRegressor()"
   ]
  },
  {
   "cell_type": "code",
   "execution_count": 57,
   "metadata": {},
   "outputs": [
    {
     "data": {
      "text/plain": [
       "XGBRegressor(base_score=0.5, booster='gbtree', colsample_bylevel=1,\n",
       "             colsample_bynode=1, colsample_bytree=1, gamma=0, gpu_id=-1,\n",
       "             importance_type='gain', interaction_constraints='',\n",
       "             learning_rate=0.300000012, max_delta_step=0, max_depth=6,\n",
       "             min_child_weight=1, missing=nan, monotone_constraints='()',\n",
       "             n_estimators=100, n_jobs=8, num_parallel_tree=1,\n",
       "             objective='reg:squarederror', random_state=0, reg_alpha=0,\n",
       "             reg_lambda=1, scale_pos_weight=1, subsample=1, tree_method='exact',\n",
       "             validate_parameters=1, verbosity=None)"
      ]
     },
     "execution_count": 57,
     "metadata": {},
     "output_type": "execute_result"
    }
   ],
   "source": [
    "# fit model\n",
    "mxgb.fit(X_train,y_train)"
   ]
  },
  {
   "cell_type": "markdown",
   "metadata": {},
   "source": [
    "### Model performance"
   ]
  },
  {
   "cell_type": "code",
   "execution_count": 58,
   "metadata": {},
   "outputs": [
    {
     "name": "stdout",
     "output_type": "stream",
     "text": [
      "Mean Absolute Error: 34.36351456180696\n",
      "Mean Squared Error: 1697.3048544975238\n",
      "Root Mean Squared Error: 41.19835985203202\n"
     ]
    }
   ],
   "source": [
    "# print model error metrics \n",
    "print('Mean Absolute Error:', mean_absolute_error(y_test, mxgb.predict(X_test)))  \n",
    "print('Mean Squared Error:', mean_squared_error(y_test, mxgb.predict(X_test)))  \n",
    "print('Root Mean Squared Error:', np.sqrt(mean_squared_error(y_test, mxgb.predict(X_test))))"
   ]
  },
  {
   "cell_type": "markdown",
   "metadata": {},
   "source": [
    "* XGboost has very nice feature of showing importance of all the feature in model and indentify significant variables"
   ]
  },
  {
   "cell_type": "code",
   "execution_count": 59,
   "metadata": {},
   "outputs": [
    {
     "data": {
      "text/plain": [
       "<matplotlib.axes._subplots.AxesSubplot at 0x7fd267a4d5d0>"
      ]
     },
     "execution_count": 59,
     "metadata": {},
     "output_type": "execute_result"
    },
    {
     "data": {
      "image/png": "[encoded data removed]",
      "text/plain": [
       "<Figure size 720x720 with 1 Axes>"
      ]
     },
     "metadata": {
      "needs_background": "light"
     },
     "output_type": "display_data"
    }
   ],
   "source": [
    "fig, ax = plt.subplots(1,1,figsize=(10,10))\n",
    "xgb.plot_importance(mxgb, max_num_features=20, ax=ax)"
   ]
  },
  {
   "cell_type": "markdown",
   "metadata": {},
   "source": [
    "* It is very interestnig to observe that **average temperature is again most significant feature as it was in regression model along with other variables in the list like day of the month, few lags and weekday in Xgboost Model.**\n",
    "* So finally we found other features that are effecting beer sales singnificantly"
   ]
  }
 ],
 "metadata": {
  "kernelspec": {
   "display_name": "Python 3",
   "language": "python",
   "name": "python3"
  },
  "language_info": {
   "codemirror_mode": {
    "name": "ipython",
    "version": 3
   },
   "file_extension": ".py",
   "mimetype": "text/x-python",
   "name": "python",
   "nbconvert_exporter": "python",
   "pygments_lexer": "ipython3",
   "version": "3.7.6"
  }
 },
 "nbformat": 4,
 "nbformat_minor": 4
}
